{
 "cells": [
  {
   "cell_type": "code",
   "execution_count": 1,
   "metadata": {},
   "outputs": [
    {
     "name": "stderr",
     "output_type": "stream",
     "text": [
      "UsageError: unrecognized arguments: #show plots in Jupyter Notebook browser\n"
     ]
    }
   ],
   "source": [
    "#import libraries for pre-processing\n",
    "import pandas as pd\n",
    "import numpy as np\n",
    "\n",
    "#Visualization\n",
    "import seaborn as sns\n",
    "import matplotlib.pyplot as plt\n",
    "%matplotlib inline #show plots in Jupyter Notebook browser"
   ]
  },
  {
   "cell_type": "code",
   "execution_count": 2,
   "metadata": {},
   "outputs": [],
   "source": [
    "pd.set_option('display.max_rows', 25)"
   ]
  },
  {
   "cell_type": "code",
   "execution_count": 6,
   "metadata": {},
   "outputs": [],
   "source": [
    "#PREPROCESSING"
   ]
  },
  {
   "cell_type": "code",
   "execution_count": 3,
   "metadata": {},
   "outputs": [],
   "source": [
    "data_train=pd.read_csv('train_data.csv')\n",
    "data_test=pd.read_csv('test_data.csv')"
   ]
  },
  {
   "cell_type": "code",
   "execution_count": 4,
   "metadata": {
    "scrolled": true
   },
   "outputs": [
    {
     "name": "stdout",
     "output_type": "stream",
     "text": [
      "<class 'pandas.core.frame.DataFrame'>\n",
      "RangeIndex: 382154 entries, 0 to 382153\n",
      "Data columns (total 11 columns):\n",
      " #   Column              Non-Null Count   Dtype  \n",
      "---  ------              --------------   -----  \n",
      " 0   id                  382154 non-null  int64  \n",
      " 1   Gender              350386 non-null  object \n",
      " 2   Umur                285896 non-null  float64\n",
      " 3   Izin_Mengemudi      305507 non-null  float64\n",
      " 4   Kode_Wilayah        298080 non-null  float64\n",
      " 5   Tanggal_Asuransi    304070 non-null  object \n",
      " 6   Tahun_Kendaraan     315714 non-null  object \n",
      " 7   Biaya               255617 non-null  float64\n",
      " 8   Sourcing_Channel    298509 non-null  float64\n",
      " 9   Hari_Diasuransikan  306488 non-null  float64\n",
      " 10  Target              382154 non-null  int64  \n",
      "dtypes: float64(6), int64(2), object(3)\n",
      "memory usage: 32.1+ MB\n",
      "----------------------------------------\n",
      "<class 'pandas.core.frame.DataFrame'>\n",
      "RangeIndex: 78273 entries, 0 to 78272\n",
      "Data columns (total 10 columns):\n",
      " #   Column              Non-Null Count  Dtype  \n",
      "---  ------              --------------  -----  \n",
      " 0   id                  78273 non-null  int64  \n",
      " 1   Gender              70695 non-null  object \n",
      " 2   Umur                62692 non-null  float64\n",
      " 3   Izin_Mengemudi      62560 non-null  float64\n",
      " 4   Kode_Wilayah        58720 non-null  float64\n",
      " 5   Tanggal_Asuransi    67021 non-null  object \n",
      " 6   Tahun_Kendaraan     64722 non-null  object \n",
      " 7   Biaya               57426 non-null  float64\n",
      " 8   Sourcing_Channel    65034 non-null  float64\n",
      " 9   Hari_Diasuransikan  61053 non-null  float64\n",
      "dtypes: float64(6), int64(1), object(3)\n",
      "memory usage: 6.0+ MB\n"
     ]
    }
   ],
   "source": [
    "data_train.info()\n",
    "print('-' * 40)\n",
    "data_test.info()"
   ]
  },
  {
   "cell_type": "markdown",
   "metadata": {},
   "source": [
    "# TRAIN DATA"
   ]
  },
  {
   "cell_type": "code",
   "execution_count": 5,
   "metadata": {},
   "outputs": [
    {
     "data": {
      "text/html": [
       "<div>\n",
       "<style scoped>\n",
       "    .dataframe tbody tr th:only-of-type {\n",
       "        vertical-align: middle;\n",
       "    }\n",
       "\n",
       "    .dataframe tbody tr th {\n",
       "        vertical-align: top;\n",
       "    }\n",
       "\n",
       "    .dataframe thead th {\n",
       "        text-align: right;\n",
       "    }\n",
       "</style>\n",
       "<table border=\"1\" class=\"dataframe\">\n",
       "  <thead>\n",
       "    <tr style=\"text-align: right;\">\n",
       "      <th></th>\n",
       "      <th>id</th>\n",
       "      <th>Gender</th>\n",
       "      <th>Umur</th>\n",
       "      <th>Izin_Mengemudi</th>\n",
       "      <th>Kode_Wilayah</th>\n",
       "      <th>Tanggal_Asuransi</th>\n",
       "      <th>Tahun_Kendaraan</th>\n",
       "      <th>Biaya</th>\n",
       "      <th>Sourcing_Channel</th>\n",
       "      <th>Hari_Diasuransikan</th>\n",
       "      <th>Target</th>\n",
       "    </tr>\n",
       "  </thead>\n",
       "  <tbody>\n",
       "    <tr>\n",
       "      <th>0</th>\n",
       "      <td>58609</td>\n",
       "      <td>Pria</td>\n",
       "      <td>65.0</td>\n",
       "      <td>1.0</td>\n",
       "      <td>48.0</td>\n",
       "      <td>11/4/2018</td>\n",
       "      <td>NaN</td>\n",
       "      <td>2630.0</td>\n",
       "      <td>15.0</td>\n",
       "      <td>131.0</td>\n",
       "      <td>0</td>\n",
       "    </tr>\n",
       "    <tr>\n",
       "      <th>1</th>\n",
       "      <td>208222</td>\n",
       "      <td>Wanita</td>\n",
       "      <td>22.0</td>\n",
       "      <td>1.0</td>\n",
       "      <td>21.0</td>\n",
       "      <td>2/2/2018</td>\n",
       "      <td>&lt;1 Tahun</td>\n",
       "      <td>NaN</td>\n",
       "      <td>NaN</td>\n",
       "      <td>NaN</td>\n",
       "      <td>0</td>\n",
       "    </tr>\n",
       "    <tr>\n",
       "      <th>2</th>\n",
       "      <td>345428</td>\n",
       "      <td>Wanita</td>\n",
       "      <td>24.0</td>\n",
       "      <td>1.0</td>\n",
       "      <td>NaN</td>\n",
       "      <td>5/12/2019</td>\n",
       "      <td>&lt;1 Tahun</td>\n",
       "      <td>NaN</td>\n",
       "      <td>NaN</td>\n",
       "      <td>181.0</td>\n",
       "      <td>0</td>\n",
       "    </tr>\n",
       "    <tr>\n",
       "      <th>3</th>\n",
       "      <td>236831</td>\n",
       "      <td>Pria</td>\n",
       "      <td>58.0</td>\n",
       "      <td>1.0</td>\n",
       "      <td>46.0</td>\n",
       "      <td>NaN</td>\n",
       "      <td>1-2 Tahun</td>\n",
       "      <td>NaN</td>\n",
       "      <td>124.0</td>\n",
       "      <td>NaN</td>\n",
       "      <td>0</td>\n",
       "    </tr>\n",
       "    <tr>\n",
       "      <th>4</th>\n",
       "      <td>280181</td>\n",
       "      <td>Pria</td>\n",
       "      <td>NaN</td>\n",
       "      <td>1.0</td>\n",
       "      <td>36.0</td>\n",
       "      <td>11/19/2019</td>\n",
       "      <td>&gt;2 Tahun</td>\n",
       "      <td>NaN</td>\n",
       "      <td>NaN</td>\n",
       "      <td>NaN</td>\n",
       "      <td>1</td>\n",
       "    </tr>\n",
       "  </tbody>\n",
       "</table>\n",
       "</div>"
      ],
      "text/plain": [
       "       id  Gender  Umur  Izin_Mengemudi  Kode_Wilayah Tanggal_Asuransi  \\\n",
       "0   58609    Pria  65.0             1.0          48.0        11/4/2018   \n",
       "1  208222  Wanita  22.0             1.0          21.0         2/2/2018   \n",
       "2  345428  Wanita  24.0             1.0           NaN        5/12/2019   \n",
       "3  236831    Pria  58.0             1.0          46.0              NaN   \n",
       "4  280181    Pria   NaN             1.0          36.0       11/19/2019   \n",
       "\n",
       "  Tahun_Kendaraan   Biaya  Sourcing_Channel  Hari_Diasuransikan  Target  \n",
       "0             NaN  2630.0              15.0               131.0       0  \n",
       "1        <1 Tahun     NaN               NaN                 NaN       0  \n",
       "2        <1 Tahun     NaN               NaN               181.0       0  \n",
       "3       1-2 Tahun     NaN             124.0                 NaN       0  \n",
       "4        >2 Tahun     NaN               NaN                 NaN       1  "
      ]
     },
     "execution_count": 5,
     "metadata": {},
     "output_type": "execute_result"
    }
   ],
   "source": [
    "data_train.head()"
   ]
  },
  {
   "cell_type": "code",
   "execution_count": 117,
   "metadata": {},
   "outputs": [
    {
     "data": {
      "text/html": [
       "<div>\n",
       "<style scoped>\n",
       "    .dataframe tbody tr th:only-of-type {\n",
       "        vertical-align: middle;\n",
       "    }\n",
       "\n",
       "    .dataframe tbody tr th {\n",
       "        vertical-align: top;\n",
       "    }\n",
       "\n",
       "    .dataframe thead th {\n",
       "        text-align: right;\n",
       "    }\n",
       "</style>\n",
       "<table border=\"1\" class=\"dataframe\">\n",
       "  <thead>\n",
       "    <tr style=\"text-align: right;\">\n",
       "      <th></th>\n",
       "      <th>id</th>\n",
       "      <th>Umur</th>\n",
       "      <th>Izin_Mengemudi</th>\n",
       "      <th>Kode_Wilayah</th>\n",
       "      <th>Biaya</th>\n",
       "      <th>Sourcing_Channel</th>\n",
       "      <th>Hari_Diasuransikan</th>\n",
       "      <th>Target</th>\n",
       "    </tr>\n",
       "  </thead>\n",
       "  <tbody>\n",
       "    <tr>\n",
       "      <th>id</th>\n",
       "      <td>1.000000</td>\n",
       "      <td>-0.030535</td>\n",
       "      <td>0.004737</td>\n",
       "      <td>0.002989</td>\n",
       "      <td>0.014813</td>\n",
       "      <td>-0.007446</td>\n",
       "      <td>-0.001546</td>\n",
       "      <td>0.166621</td>\n",
       "    </tr>\n",
       "    <tr>\n",
       "      <th>Umur</th>\n",
       "      <td>-0.030535</td>\n",
       "      <td>1.000000</td>\n",
       "      <td>-0.064958</td>\n",
       "      <td>0.046956</td>\n",
       "      <td>0.079891</td>\n",
       "      <td>-0.579095</td>\n",
       "      <td>0.001308</td>\n",
       "      <td>0.146179</td>\n",
       "    </tr>\n",
       "    <tr>\n",
       "      <th>Izin_Mengemudi</th>\n",
       "      <td>0.004737</td>\n",
       "      <td>-0.064958</td>\n",
       "      <td>1.000000</td>\n",
       "      <td>-0.000666</td>\n",
       "      <td>-0.009791</td>\n",
       "      <td>0.031058</td>\n",
       "      <td>0.002460</td>\n",
       "      <td>0.011128</td>\n",
       "    </tr>\n",
       "    <tr>\n",
       "      <th>Kode_Wilayah</th>\n",
       "      <td>0.002989</td>\n",
       "      <td>0.046956</td>\n",
       "      <td>-0.000666</td>\n",
       "      <td>1.000000</td>\n",
       "      <td>-0.012957</td>\n",
       "      <td>-0.045872</td>\n",
       "      <td>0.000146</td>\n",
       "      <td>0.012632</td>\n",
       "    </tr>\n",
       "    <tr>\n",
       "      <th>Biaya</th>\n",
       "      <td>0.014813</td>\n",
       "      <td>0.079891</td>\n",
       "      <td>-0.009791</td>\n",
       "      <td>-0.012957</td>\n",
       "      <td>1.000000</td>\n",
       "      <td>-0.143558</td>\n",
       "      <td>-0.002264</td>\n",
       "      <td>0.026168</td>\n",
       "    </tr>\n",
       "    <tr>\n",
       "      <th>Sourcing_Channel</th>\n",
       "      <td>-0.007446</td>\n",
       "      <td>-0.579095</td>\n",
       "      <td>0.031058</td>\n",
       "      <td>-0.045872</td>\n",
       "      <td>-0.143558</td>\n",
       "      <td>1.000000</td>\n",
       "      <td>-0.001380</td>\n",
       "      <td>-0.222263</td>\n",
       "    </tr>\n",
       "    <tr>\n",
       "      <th>Hari_Diasuransikan</th>\n",
       "      <td>-0.001546</td>\n",
       "      <td>0.001308</td>\n",
       "      <td>0.002460</td>\n",
       "      <td>0.000146</td>\n",
       "      <td>-0.002264</td>\n",
       "      <td>-0.001380</td>\n",
       "      <td>1.000000</td>\n",
       "      <td>-0.001052</td>\n",
       "    </tr>\n",
       "    <tr>\n",
       "      <th>Target</th>\n",
       "      <td>0.166621</td>\n",
       "      <td>0.146179</td>\n",
       "      <td>0.011128</td>\n",
       "      <td>0.012632</td>\n",
       "      <td>0.026168</td>\n",
       "      <td>-0.222263</td>\n",
       "      <td>-0.001052</td>\n",
       "      <td>1.000000</td>\n",
       "    </tr>\n",
       "  </tbody>\n",
       "</table>\n",
       "</div>"
      ],
      "text/plain": [
       "                          id      Umur  Izin_Mengemudi  Kode_Wilayah  \\\n",
       "id                  1.000000 -0.030535        0.004737      0.002989   \n",
       "Umur               -0.030535  1.000000       -0.064958      0.046956   \n",
       "Izin_Mengemudi      0.004737 -0.064958        1.000000     -0.000666   \n",
       "Kode_Wilayah        0.002989  0.046956       -0.000666      1.000000   \n",
       "Biaya               0.014813  0.079891       -0.009791     -0.012957   \n",
       "Sourcing_Channel   -0.007446 -0.579095        0.031058     -0.045872   \n",
       "Hari_Diasuransikan -0.001546  0.001308        0.002460      0.000146   \n",
       "Target              0.166621  0.146179        0.011128      0.012632   \n",
       "\n",
       "                       Biaya  Sourcing_Channel  Hari_Diasuransikan    Target  \n",
       "id                  0.014813         -0.007446           -0.001546  0.166621  \n",
       "Umur                0.079891         -0.579095            0.001308  0.146179  \n",
       "Izin_Mengemudi     -0.009791          0.031058            0.002460  0.011128  \n",
       "Kode_Wilayah       -0.012957         -0.045872            0.000146  0.012632  \n",
       "Biaya               1.000000         -0.143558           -0.002264  0.026168  \n",
       "Sourcing_Channel   -0.143558          1.000000           -0.001380 -0.222263  \n",
       "Hari_Diasuransikan -0.002264         -0.001380            1.000000 -0.001052  \n",
       "Target              0.026168         -0.222263           -0.001052  1.000000  "
      ]
     },
     "execution_count": 117,
     "metadata": {},
     "output_type": "execute_result"
    }
   ],
   "source": [
    "ab=data_train.corr()\n",
    "ab\n",
    "plt.figure(figsize=(15,8))\n",
    "sns.heatmap(ab,annot=True,cmap='magma')"
   ]
  },
  {
   "cell_type": "code",
   "execution_count": 88,
   "metadata": {},
   "outputs": [
    {
     "ename": "NameError",
     "evalue": "name 'ab' is not defined",
     "output_type": "error",
     "traceback": [
      "\u001b[1;31m---------------------------------------------------------------------------\u001b[0m",
      "\u001b[1;31mNameError\u001b[0m                                 Traceback (most recent call last)",
      "\u001b[1;32m<ipython-input-88-21db59019e5c>\u001b[0m in \u001b[0;36m<module>\u001b[1;34m\u001b[0m\n\u001b[0;32m      1\u001b[0m \u001b[0mplt\u001b[0m\u001b[1;33m.\u001b[0m\u001b[0mfigure\u001b[0m\u001b[1;33m(\u001b[0m\u001b[0mfigsize\u001b[0m\u001b[1;33m=\u001b[0m\u001b[1;33m(\u001b[0m\u001b[1;36m15\u001b[0m\u001b[1;33m,\u001b[0m\u001b[1;36m8\u001b[0m\u001b[1;33m)\u001b[0m\u001b[1;33m)\u001b[0m\u001b[1;33m\u001b[0m\u001b[1;33m\u001b[0m\u001b[0m\n\u001b[1;32m----> 2\u001b[1;33m \u001b[0msns\u001b[0m\u001b[1;33m.\u001b[0m\u001b[0mheatmap\u001b[0m\u001b[1;33m(\u001b[0m\u001b[0mab\u001b[0m\u001b[1;33m,\u001b[0m\u001b[0mannot\u001b[0m\u001b[1;33m=\u001b[0m\u001b[1;32mTrue\u001b[0m\u001b[1;33m,\u001b[0m\u001b[0mcmap\u001b[0m\u001b[1;33m=\u001b[0m\u001b[1;34m'magma'\u001b[0m\u001b[1;33m)\u001b[0m\u001b[1;33m\u001b[0m\u001b[1;33m\u001b[0m\u001b[0m\n\u001b[0m",
      "\u001b[1;31mNameError\u001b[0m: name 'ab' is not defined"
     ]
    },
    {
     "data": {
      "text/plain": [
       "<Figure size 1080x576 with 0 Axes>"
      ]
     },
     "metadata": {},
     "output_type": "display_data"
    }
   ],
   "source": [
    "plt.figure(figsize=(15,8))\n",
    "sns.heatmap(ab,annot=True,cmap='magma')"
   ]
  },
  {
   "cell_type": "code",
   "execution_count": 13,
   "metadata": {},
   "outputs": [
    {
     "data": {
      "text/html": [
       "<div>\n",
       "<style scoped>\n",
       "    .dataframe tbody tr th:only-of-type {\n",
       "        vertical-align: middle;\n",
       "    }\n",
       "\n",
       "    .dataframe tbody tr th {\n",
       "        vertical-align: top;\n",
       "    }\n",
       "\n",
       "    .dataframe thead th {\n",
       "        text-align: right;\n",
       "    }\n",
       "</style>\n",
       "<table border=\"1\" class=\"dataframe\">\n",
       "  <thead>\n",
       "    <tr style=\"text-align: right;\">\n",
       "      <th></th>\n",
       "      <th>id</th>\n",
       "      <th>Gender</th>\n",
       "      <th>Umur</th>\n",
       "      <th>Izin_Mengemudi</th>\n",
       "      <th>Kode_Wilayah</th>\n",
       "      <th>Tanggal_Asuransi</th>\n",
       "      <th>Tahun_Kendaraan</th>\n",
       "      <th>Biaya</th>\n",
       "      <th>Sourcing_Channel</th>\n",
       "      <th>Hari_Diasuransikan</th>\n",
       "    </tr>\n",
       "  </thead>\n",
       "  <tbody>\n",
       "    <tr>\n",
       "      <th>0</th>\n",
       "      <td>273737</td>\n",
       "      <td>NaN</td>\n",
       "      <td>NaN</td>\n",
       "      <td>1.0</td>\n",
       "      <td>11.0</td>\n",
       "      <td>NaN</td>\n",
       "      <td>NaN</td>\n",
       "      <td>NaN</td>\n",
       "      <td>NaN</td>\n",
       "      <td>193.0</td>\n",
       "    </tr>\n",
       "    <tr>\n",
       "      <th>1</th>\n",
       "      <td>49175</td>\n",
       "      <td>Pria</td>\n",
       "      <td>25.0</td>\n",
       "      <td>1.0</td>\n",
       "      <td>30.0</td>\n",
       "      <td>4/14/2018</td>\n",
       "      <td>&lt;1 Tahun</td>\n",
       "      <td>NaN</td>\n",
       "      <td>152.0</td>\n",
       "      <td>153.0</td>\n",
       "    </tr>\n",
       "    <tr>\n",
       "      <th>2</th>\n",
       "      <td>353494</td>\n",
       "      <td>Wanita</td>\n",
       "      <td>50.0</td>\n",
       "      <td>1.0</td>\n",
       "      <td>19.0</td>\n",
       "      <td>12/25/2019</td>\n",
       "      <td>NaN</td>\n",
       "      <td>31641.0</td>\n",
       "      <td>124.0</td>\n",
       "      <td>278.0</td>\n",
       "    </tr>\n",
       "    <tr>\n",
       "      <th>3</th>\n",
       "      <td>182676</td>\n",
       "      <td>Wanita</td>\n",
       "      <td>59.0</td>\n",
       "      <td>NaN</td>\n",
       "      <td>NaN</td>\n",
       "      <td>5/4/2018</td>\n",
       "      <td>1-2 Tahun</td>\n",
       "      <td>2630.0</td>\n",
       "      <td>26.0</td>\n",
       "      <td>202.0</td>\n",
       "    </tr>\n",
       "    <tr>\n",
       "      <th>4</th>\n",
       "      <td>498206</td>\n",
       "      <td>Wanita</td>\n",
       "      <td>57.0</td>\n",
       "      <td>NaN</td>\n",
       "      <td>28.0</td>\n",
       "      <td>4/17/2019</td>\n",
       "      <td>1-2 Tahun</td>\n",
       "      <td>26357.0</td>\n",
       "      <td>122.0</td>\n",
       "      <td>142.0</td>\n",
       "    </tr>\n",
       "  </tbody>\n",
       "</table>\n",
       "</div>"
      ],
      "text/plain": [
       "       id  Gender  Umur  Izin_Mengemudi  Kode_Wilayah Tanggal_Asuransi  \\\n",
       "0  273737     NaN   NaN             1.0          11.0              NaN   \n",
       "1   49175    Pria  25.0             1.0          30.0        4/14/2018   \n",
       "2  353494  Wanita  50.0             1.0          19.0       12/25/2019   \n",
       "3  182676  Wanita  59.0             NaN           NaN         5/4/2018   \n",
       "4  498206  Wanita  57.0             NaN          28.0        4/17/2019   \n",
       "\n",
       "  Tahun_Kendaraan    Biaya  Sourcing_Channel  Hari_Diasuransikan  \n",
       "0             NaN      NaN               NaN               193.0  \n",
       "1        <1 Tahun      NaN             152.0               153.0  \n",
       "2             NaN  31641.0             124.0               278.0  \n",
       "3       1-2 Tahun   2630.0              26.0               202.0  \n",
       "4       1-2 Tahun  26357.0             122.0               142.0  "
      ]
     },
     "execution_count": 13,
     "metadata": {},
     "output_type": "execute_result"
    }
   ],
   "source": [
    "data_test.head()"
   ]
  },
  {
   "cell_type": "code",
   "execution_count": 6,
   "metadata": {},
   "outputs": [],
   "source": [
    "def missing_values_table(df):\n",
    "        # Total missing values\n",
    "        mis_val = df.isnull().sum()\n",
    "        \n",
    "        # Percentage of missing values\n",
    "        mis_val_percent = 100 * df.isnull().sum() / len(df)\n",
    "        \n",
    "        # Make a table with the results\n",
    "        mis_val_table = pd.concat([mis_val, mis_val_percent], axis=1)\n",
    "        \n",
    "        # Rename the columns\n",
    "        mis_val_table_ren_columns = mis_val_table.rename(\n",
    "        columns = {0 : 'Missing Values', 1 : '% of Total Values'})\n",
    "        \n",
    "        # Sort the table by percentage of missing descending\n",
    "        mis_val_table_ren_columns = mis_val_table_ren_columns[\n",
    "            mis_val_table_ren_columns.iloc[:,1] != 0].sort_values(\n",
    "        '% of Total Values', ascending=False).round(1)\n",
    "        \n",
    "        # Print some summary information\n",
    "        print (\"Your selected dataframe has \" + str(df.shape[1]) + \" columns.\\n\"      \n",
    "            \"There are \" + str(mis_val_table_ren_columns.shape[0]) +\n",
    "              \" columns that have missing values.\")\n",
    "        \n",
    "        # Return the dataframe with missing information\n",
    "        return mis_val_table_ren_columns"
   ]
  },
  {
   "cell_type": "code",
   "execution_count": 7,
   "metadata": {},
   "outputs": [
    {
     "name": "stdout",
     "output_type": "stream",
     "text": [
      "Your selected dataframe has 11 columns.\n",
      "There are 9 columns that have missing values.\n"
     ]
    },
    {
     "data": {
      "text/html": [
       "<div>\n",
       "<style scoped>\n",
       "    .dataframe tbody tr th:only-of-type {\n",
       "        vertical-align: middle;\n",
       "    }\n",
       "\n",
       "    .dataframe tbody tr th {\n",
       "        vertical-align: top;\n",
       "    }\n",
       "\n",
       "    .dataframe thead th {\n",
       "        text-align: right;\n",
       "    }\n",
       "</style>\n",
       "<table border=\"1\" class=\"dataframe\">\n",
       "  <thead>\n",
       "    <tr style=\"text-align: right;\">\n",
       "      <th></th>\n",
       "      <th>Missing Values</th>\n",
       "      <th>% of Total Values</th>\n",
       "    </tr>\n",
       "  </thead>\n",
       "  <tbody>\n",
       "    <tr>\n",
       "      <th>Biaya</th>\n",
       "      <td>126537</td>\n",
       "      <td>33.1</td>\n",
       "    </tr>\n",
       "    <tr>\n",
       "      <th>Umur</th>\n",
       "      <td>96258</td>\n",
       "      <td>25.2</td>\n",
       "    </tr>\n",
       "    <tr>\n",
       "      <th>Kode_Wilayah</th>\n",
       "      <td>84074</td>\n",
       "      <td>22.0</td>\n",
       "    </tr>\n",
       "    <tr>\n",
       "      <th>Sourcing_Channel</th>\n",
       "      <td>83645</td>\n",
       "      <td>21.9</td>\n",
       "    </tr>\n",
       "    <tr>\n",
       "      <th>Tanggal_Asuransi</th>\n",
       "      <td>78084</td>\n",
       "      <td>20.4</td>\n",
       "    </tr>\n",
       "    <tr>\n",
       "      <th>Izin_Mengemudi</th>\n",
       "      <td>76647</td>\n",
       "      <td>20.1</td>\n",
       "    </tr>\n",
       "    <tr>\n",
       "      <th>Hari_Diasuransikan</th>\n",
       "      <td>75666</td>\n",
       "      <td>19.8</td>\n",
       "    </tr>\n",
       "    <tr>\n",
       "      <th>Tahun_Kendaraan</th>\n",
       "      <td>66440</td>\n",
       "      <td>17.4</td>\n",
       "    </tr>\n",
       "    <tr>\n",
       "      <th>Gender</th>\n",
       "      <td>31768</td>\n",
       "      <td>8.3</td>\n",
       "    </tr>\n",
       "  </tbody>\n",
       "</table>\n",
       "</div>"
      ],
      "text/plain": [
       "                    Missing Values  % of Total Values\n",
       "Biaya                       126537               33.1\n",
       "Umur                         96258               25.2\n",
       "Kode_Wilayah                 84074               22.0\n",
       "Sourcing_Channel             83645               21.9\n",
       "Tanggal_Asuransi             78084               20.4\n",
       "Izin_Mengemudi               76647               20.1\n",
       "Hari_Diasuransikan           75666               19.8\n",
       "Tahun_Kendaraan              66440               17.4\n",
       "Gender                       31768                8.3"
      ]
     },
     "execution_count": 7,
     "metadata": {},
     "output_type": "execute_result"
    }
   ],
   "source": [
    "train_missing= missing_values_table(data_train)\n",
    "train_missing"
   ]
  },
  {
   "cell_type": "code",
   "execution_count": 16,
   "metadata": {},
   "outputs": [
    {
     "data": {
      "text/plain": [
       "Index(['id', 'Gender', 'Umur', 'Izin_Mengemudi', 'Kode_Wilayah',\n",
       "       'Tanggal_Asuransi', 'Tahun_Kendaraan', 'Biaya', 'Sourcing_Channel',\n",
       "       'Hari_Diasuransikan', 'Target'],\n",
       "      dtype='object')"
      ]
     },
     "execution_count": 16,
     "metadata": {},
     "output_type": "execute_result"
    }
   ],
   "source": [
    "data_train.columns"
   ]
  },
  {
   "cell_type": "code",
   "execution_count": 9,
   "metadata": {},
   "outputs": [
    {
     "data": {
      "text/plain": [
       "<matplotlib.axes._subplots.AxesSubplot at 0x1c563c4bf88>"
      ]
     },
     "execution_count": 9,
     "metadata": {},
     "output_type": "execute_result"
    },
    {
     "data": {
      "image/png": "[encoded data removed]",
      "text/plain": [
       "<Figure size 432x288 with 1 Axes>"
      ]
     },
     "metadata": {
      "needs_background": "light"
     },
     "output_type": "display_data"
    }
   ],
   "source": [
    "sns.countplot(x='Izin_Mengemudi',data=data_train)"
   ]
  },
  {
   "cell_type": "code",
   "execution_count": 7,
   "metadata": {},
   "outputs": [
    {
     "data": {
      "text/plain": [
       "0    319553\n",
       "1     62601\n",
       "Name: Target, dtype: int64"
      ]
     },
     "execution_count": 7,
     "metadata": {},
     "output_type": "execute_result"
    }
   ],
   "source": [
    "data_train['Target'].value_counts()"
   ]
  },
  {
   "cell_type": "code",
   "execution_count": null,
   "metadata": {},
   "outputs": [],
   "source": []
  },
  {
   "cell_type": "code",
   "execution_count": 8,
   "metadata": {},
   "outputs": [],
   "source": [
    "data_train['Gender'] = data_train['Gender'].fillna('Pria')"
   ]
  },
  {
   "cell_type": "code",
   "execution_count": 9,
   "metadata": {},
   "outputs": [],
   "source": [
    "data_train['Umur'] = data_train['Umur'].fillna(data_train['Umur'].mean())"
   ]
  },
  {
   "cell_type": "code",
   "execution_count": 10,
   "metadata": {},
   "outputs": [],
   "source": [
    "data_train['Kode_Wilayah'] = data_train['Kode_Wilayah'].fillna(0)"
   ]
  },
  {
   "cell_type": "code",
   "execution_count": 11,
   "metadata": {},
   "outputs": [],
   "source": [
    "data_train['Sourcing_Channel'] = data_train['Sourcing_Channel'].fillna(0)"
   ]
  },
  {
   "cell_type": "code",
   "execution_count": 12,
   "metadata": {},
   "outputs": [],
   "source": [
    "data_train['Tanggal_Asuransi'] = data_train['Tanggal_Asuransi'].fillna('0/0/0')"
   ]
  },
  {
   "cell_type": "code",
   "execution_count": 13,
   "metadata": {},
   "outputs": [],
   "source": [
    "data_train['Izin_Mengemudi'] = data_train['Izin_Mengemudi'].fillna(1.0)"
   ]
  },
  {
   "cell_type": "code",
   "execution_count": 14,
   "metadata": {},
   "outputs": [],
   "source": [
    "data_train['Hari_Diasuransikan'] = data_train['Hari_Diasuransikan'].fillna(0)"
   ]
  },
  {
   "cell_type": "code",
   "execution_count": 15,
   "metadata": {},
   "outputs": [],
   "source": [
    "data_train['Tahun_Kendaraan'] = data_train['Tahun_Kendaraan'].fillna(0)"
   ]
  },
  {
   "cell_type": "code",
   "execution_count": 16,
   "metadata": {},
   "outputs": [],
   "source": [
    "data_train['Biaya'] = data_train['Biaya'].fillna(data_train['Biaya'].mean())"
   ]
  },
  {
   "cell_type": "code",
   "execution_count": 17,
   "metadata": {},
   "outputs": [
    {
     "data": {
      "text/plain": [
       "id                    0\n",
       "Gender                0\n",
       "Umur                  0\n",
       "Izin_Mengemudi        0\n",
       "Kode_Wilayah          0\n",
       "Tanggal_Asuransi      0\n",
       "Tahun_Kendaraan       0\n",
       "Biaya                 0\n",
       "Sourcing_Channel      0\n",
       "Hari_Diasuransikan    0\n",
       "Target                0\n",
       "dtype: int64"
      ]
     },
     "execution_count": 17,
     "metadata": {},
     "output_type": "execute_result"
    }
   ],
   "source": [
    "data_train.isnull().sum()"
   ]
  },
  {
   "cell_type": "code",
   "execution_count": 18,
   "metadata": {},
   "outputs": [
    {
     "data": {
      "text/html": [
       "<div>\n",
       "<style scoped>\n",
       "    .dataframe tbody tr th:only-of-type {\n",
       "        vertical-align: middle;\n",
       "    }\n",
       "\n",
       "    .dataframe tbody tr th {\n",
       "        vertical-align: top;\n",
       "    }\n",
       "\n",
       "    .dataframe thead th {\n",
       "        text-align: right;\n",
       "    }\n",
       "</style>\n",
       "<table border=\"1\" class=\"dataframe\">\n",
       "  <thead>\n",
       "    <tr style=\"text-align: right;\">\n",
       "      <th></th>\n",
       "      <th>id</th>\n",
       "      <th>Gender</th>\n",
       "      <th>Umur</th>\n",
       "      <th>Izin_Mengemudi</th>\n",
       "      <th>Kode_Wilayah</th>\n",
       "      <th>Tanggal_Asuransi</th>\n",
       "      <th>Tahun_Kendaraan</th>\n",
       "      <th>Biaya</th>\n",
       "      <th>Sourcing_Channel</th>\n",
       "      <th>Hari_Diasuransikan</th>\n",
       "      <th>Target</th>\n",
       "    </tr>\n",
       "  </thead>\n",
       "  <tbody>\n",
       "    <tr>\n",
       "      <th>0</th>\n",
       "      <td>58609</td>\n",
       "      <td>Pria</td>\n",
       "      <td>65.000000</td>\n",
       "      <td>1.0</td>\n",
       "      <td>48.0</td>\n",
       "      <td>11/4/2018</td>\n",
       "      <td>0</td>\n",
       "      <td>2630.000000</td>\n",
       "      <td>15.0</td>\n",
       "      <td>131.0</td>\n",
       "      <td>0</td>\n",
       "    </tr>\n",
       "    <tr>\n",
       "      <th>1</th>\n",
       "      <td>208222</td>\n",
       "      <td>Wanita</td>\n",
       "      <td>22.000000</td>\n",
       "      <td>1.0</td>\n",
       "      <td>21.0</td>\n",
       "      <td>2/2/2018</td>\n",
       "      <td>&lt;1 Tahun</td>\n",
       "      <td>31183.756781</td>\n",
       "      <td>0.0</td>\n",
       "      <td>0.0</td>\n",
       "      <td>0</td>\n",
       "    </tr>\n",
       "    <tr>\n",
       "      <th>2</th>\n",
       "      <td>345428</td>\n",
       "      <td>Wanita</td>\n",
       "      <td>24.000000</td>\n",
       "      <td>1.0</td>\n",
       "      <td>0.0</td>\n",
       "      <td>5/12/2019</td>\n",
       "      <td>&lt;1 Tahun</td>\n",
       "      <td>31183.756781</td>\n",
       "      <td>0.0</td>\n",
       "      <td>181.0</td>\n",
       "      <td>0</td>\n",
       "    </tr>\n",
       "    <tr>\n",
       "      <th>3</th>\n",
       "      <td>236831</td>\n",
       "      <td>Pria</td>\n",
       "      <td>58.000000</td>\n",
       "      <td>1.0</td>\n",
       "      <td>46.0</td>\n",
       "      <td>0/0/0</td>\n",
       "      <td>1-2 Tahun</td>\n",
       "      <td>31183.756781</td>\n",
       "      <td>124.0</td>\n",
       "      <td>0.0</td>\n",
       "      <td>0</td>\n",
       "    </tr>\n",
       "    <tr>\n",
       "      <th>4</th>\n",
       "      <td>280181</td>\n",
       "      <td>Pria</td>\n",
       "      <td>38.916592</td>\n",
       "      <td>1.0</td>\n",
       "      <td>36.0</td>\n",
       "      <td>11/19/2019</td>\n",
       "      <td>&gt;2 Tahun</td>\n",
       "      <td>31183.756781</td>\n",
       "      <td>0.0</td>\n",
       "      <td>0.0</td>\n",
       "      <td>1</td>\n",
       "    </tr>\n",
       "  </tbody>\n",
       "</table>\n",
       "</div>"
      ],
      "text/plain": [
       "       id  Gender       Umur  Izin_Mengemudi  Kode_Wilayah Tanggal_Asuransi  \\\n",
       "0   58609    Pria  65.000000             1.0          48.0        11/4/2018   \n",
       "1  208222  Wanita  22.000000             1.0          21.0         2/2/2018   \n",
       "2  345428  Wanita  24.000000             1.0           0.0        5/12/2019   \n",
       "3  236831    Pria  58.000000             1.0          46.0            0/0/0   \n",
       "4  280181    Pria  38.916592             1.0          36.0       11/19/2019   \n",
       "\n",
       "  Tahun_Kendaraan         Biaya  Sourcing_Channel  Hari_Diasuransikan  Target  \n",
       "0               0   2630.000000              15.0               131.0       0  \n",
       "1        <1 Tahun  31183.756781               0.0                 0.0       0  \n",
       "2        <1 Tahun  31183.756781               0.0               181.0       0  \n",
       "3       1-2 Tahun  31183.756781             124.0                 0.0       0  \n",
       "4        >2 Tahun  31183.756781               0.0                 0.0       1  "
      ]
     },
     "execution_count": 18,
     "metadata": {},
     "output_type": "execute_result"
    }
   ],
   "source": [
    "data_train.head()"
   ]
  },
  {
   "cell_type": "code",
   "execution_count": 19,
   "metadata": {},
   "outputs": [
    {
     "data": {
      "text/html": [
       "<div>\n",
       "<style scoped>\n",
       "    .dataframe tbody tr th:only-of-type {\n",
       "        vertical-align: middle;\n",
       "    }\n",
       "\n",
       "    .dataframe tbody tr th {\n",
       "        vertical-align: top;\n",
       "    }\n",
       "\n",
       "    .dataframe thead th {\n",
       "        text-align: right;\n",
       "    }\n",
       "</style>\n",
       "<table border=\"1\" class=\"dataframe\">\n",
       "  <thead>\n",
       "    <tr style=\"text-align: right;\">\n",
       "      <th></th>\n",
       "      <th>Gender_Wanita</th>\n",
       "    </tr>\n",
       "  </thead>\n",
       "  <tbody>\n",
       "    <tr>\n",
       "      <th>0</th>\n",
       "      <td>0</td>\n",
       "    </tr>\n",
       "    <tr>\n",
       "      <th>1</th>\n",
       "      <td>1</td>\n",
       "    </tr>\n",
       "    <tr>\n",
       "      <th>2</th>\n",
       "      <td>1</td>\n",
       "    </tr>\n",
       "    <tr>\n",
       "      <th>3</th>\n",
       "      <td>0</td>\n",
       "    </tr>\n",
       "    <tr>\n",
       "      <th>4</th>\n",
       "      <td>0</td>\n",
       "    </tr>\n",
       "  </tbody>\n",
       "</table>\n",
       "</div>"
      ],
      "text/plain": [
       "   Gender_Wanita\n",
       "0              0\n",
       "1              1\n",
       "2              1\n",
       "3              0\n",
       "4              0"
      ]
     },
     "execution_count": 19,
     "metadata": {},
     "output_type": "execute_result"
    }
   ],
   "source": [
    "n_gender=data_train[['Gender']]\n",
    "n_gender=pd.get_dummies(n_gender,drop_first=True)\n",
    "n_gender.head()"
   ]
  },
  {
   "cell_type": "code",
   "execution_count": 62,
   "metadata": {},
   "outputs": [
    {
     "data": {
      "text/html": [
       "<div>\n",
       "<style scoped>\n",
       "    .dataframe tbody tr th:only-of-type {\n",
       "        vertical-align: middle;\n",
       "    }\n",
       "\n",
       "    .dataframe tbody tr th {\n",
       "        vertical-align: top;\n",
       "    }\n",
       "\n",
       "    .dataframe thead th {\n",
       "        text-align: right;\n",
       "    }\n",
       "</style>\n",
       "<table border=\"1\" class=\"dataframe\">\n",
       "  <thead>\n",
       "    <tr style=\"text-align: right;\">\n",
       "      <th></th>\n",
       "      <th>Umur_range_Adult 2</th>\n",
       "      <th>Umur_range_Adult 3</th>\n",
       "      <th>Umur_range_Elderly</th>\n",
       "    </tr>\n",
       "  </thead>\n",
       "  <tbody>\n",
       "    <tr>\n",
       "      <th>0</th>\n",
       "      <td>0</td>\n",
       "      <td>0</td>\n",
       "      <td>1</td>\n",
       "    </tr>\n",
       "    <tr>\n",
       "      <th>1</th>\n",
       "      <td>0</td>\n",
       "      <td>0</td>\n",
       "      <td>0</td>\n",
       "    </tr>\n",
       "    <tr>\n",
       "      <th>2</th>\n",
       "      <td>0</td>\n",
       "      <td>0</td>\n",
       "      <td>0</td>\n",
       "    </tr>\n",
       "    <tr>\n",
       "      <th>3</th>\n",
       "      <td>0</td>\n",
       "      <td>1</td>\n",
       "      <td>0</td>\n",
       "    </tr>\n",
       "    <tr>\n",
       "      <th>4</th>\n",
       "      <td>1</td>\n",
       "      <td>0</td>\n",
       "      <td>0</td>\n",
       "    </tr>\n",
       "  </tbody>\n",
       "</table>\n",
       "</div>"
      ],
      "text/plain": [
       "   Umur_range_Adult 2  Umur_range_Adult 3  Umur_range_Elderly\n",
       "0                   0                   0                   1\n",
       "1                   0                   0                   0\n",
       "2                   0                   0                   0\n",
       "3                   0                   1                   0\n",
       "4                   1                   0                   0"
      ]
     },
     "execution_count": 62,
     "metadata": {},
     "output_type": "execute_result"
    }
   ],
   "source": []
  },
  {
   "cell_type": "code",
   "execution_count": null,
   "metadata": {},
   "outputs": [],
   "source": []
  },
  {
   "cell_type": "code",
   "execution_count": 20,
   "metadata": {},
   "outputs": [
    {
     "data": {
      "text/plain": [
       "array([0, '<1 Tahun', '1-2 Tahun', '>2 Tahun'], dtype=object)"
      ]
     },
     "execution_count": 20,
     "metadata": {},
     "output_type": "execute_result"
    }
   ],
   "source": [
    "data_train['Tahun_Kendaraan'].unique()"
   ]
  },
  {
   "cell_type": "code",
   "execution_count": 21,
   "metadata": {},
   "outputs": [],
   "source": [
    "col         = 'Tahun_Kendaraan'\n",
    "conditions  = [ data_train[col] == '1-2 Tahun', data_train[col] == '<1 Tahun', data_train[col] == '>2 Tahun' ]\n",
    "choices     = [ 2, 1, 3 ]\n",
    "    \n",
    "data_train[\"tahun_kendaraan\"] = np.select(conditions, choices, default=0)"
   ]
  },
  {
   "cell_type": "code",
   "execution_count": 22,
   "metadata": {},
   "outputs": [
    {
     "data": {
      "text/html": [
       "<div>\n",
       "<style scoped>\n",
       "    .dataframe tbody tr th:only-of-type {\n",
       "        vertical-align: middle;\n",
       "    }\n",
       "\n",
       "    .dataframe tbody tr th {\n",
       "        vertical-align: top;\n",
       "    }\n",
       "\n",
       "    .dataframe thead th {\n",
       "        text-align: right;\n",
       "    }\n",
       "</style>\n",
       "<table border=\"1\" class=\"dataframe\">\n",
       "  <thead>\n",
       "    <tr style=\"text-align: right;\">\n",
       "      <th></th>\n",
       "      <th>id</th>\n",
       "      <th>Gender</th>\n",
       "      <th>Umur</th>\n",
       "      <th>Izin_Mengemudi</th>\n",
       "      <th>Kode_Wilayah</th>\n",
       "      <th>Tanggal_Asuransi</th>\n",
       "      <th>Tahun_Kendaraan</th>\n",
       "      <th>Biaya</th>\n",
       "      <th>Sourcing_Channel</th>\n",
       "      <th>Hari_Diasuransikan</th>\n",
       "      <th>Target</th>\n",
       "      <th>tahun_kendaraan</th>\n",
       "    </tr>\n",
       "  </thead>\n",
       "  <tbody>\n",
       "    <tr>\n",
       "      <th>0</th>\n",
       "      <td>58609</td>\n",
       "      <td>Pria</td>\n",
       "      <td>65.000000</td>\n",
       "      <td>1.0</td>\n",
       "      <td>48.0</td>\n",
       "      <td>11/4/2018</td>\n",
       "      <td>0</td>\n",
       "      <td>2630.000000</td>\n",
       "      <td>15.0</td>\n",
       "      <td>131.0</td>\n",
       "      <td>0</td>\n",
       "      <td>0</td>\n",
       "    </tr>\n",
       "    <tr>\n",
       "      <th>1</th>\n",
       "      <td>208222</td>\n",
       "      <td>Wanita</td>\n",
       "      <td>22.000000</td>\n",
       "      <td>1.0</td>\n",
       "      <td>21.0</td>\n",
       "      <td>2/2/2018</td>\n",
       "      <td>&lt;1 Tahun</td>\n",
       "      <td>31183.756781</td>\n",
       "      <td>0.0</td>\n",
       "      <td>0.0</td>\n",
       "      <td>0</td>\n",
       "      <td>1</td>\n",
       "    </tr>\n",
       "    <tr>\n",
       "      <th>2</th>\n",
       "      <td>345428</td>\n",
       "      <td>Wanita</td>\n",
       "      <td>24.000000</td>\n",
       "      <td>1.0</td>\n",
       "      <td>0.0</td>\n",
       "      <td>5/12/2019</td>\n",
       "      <td>&lt;1 Tahun</td>\n",
       "      <td>31183.756781</td>\n",
       "      <td>0.0</td>\n",
       "      <td>181.0</td>\n",
       "      <td>0</td>\n",
       "      <td>1</td>\n",
       "    </tr>\n",
       "    <tr>\n",
       "      <th>3</th>\n",
       "      <td>236831</td>\n",
       "      <td>Pria</td>\n",
       "      <td>58.000000</td>\n",
       "      <td>1.0</td>\n",
       "      <td>46.0</td>\n",
       "      <td>0/0/0</td>\n",
       "      <td>1-2 Tahun</td>\n",
       "      <td>31183.756781</td>\n",
       "      <td>124.0</td>\n",
       "      <td>0.0</td>\n",
       "      <td>0</td>\n",
       "      <td>2</td>\n",
       "    </tr>\n",
       "    <tr>\n",
       "      <th>4</th>\n",
       "      <td>280181</td>\n",
       "      <td>Pria</td>\n",
       "      <td>38.916592</td>\n",
       "      <td>1.0</td>\n",
       "      <td>36.0</td>\n",
       "      <td>11/19/2019</td>\n",
       "      <td>&gt;2 Tahun</td>\n",
       "      <td>31183.756781</td>\n",
       "      <td>0.0</td>\n",
       "      <td>0.0</td>\n",
       "      <td>1</td>\n",
       "      <td>3</td>\n",
       "    </tr>\n",
       "  </tbody>\n",
       "</table>\n",
       "</div>"
      ],
      "text/plain": [
       "       id  Gender       Umur  Izin_Mengemudi  Kode_Wilayah Tanggal_Asuransi  \\\n",
       "0   58609    Pria  65.000000             1.0          48.0        11/4/2018   \n",
       "1  208222  Wanita  22.000000             1.0          21.0         2/2/2018   \n",
       "2  345428  Wanita  24.000000             1.0           0.0        5/12/2019   \n",
       "3  236831    Pria  58.000000             1.0          46.0            0/0/0   \n",
       "4  280181    Pria  38.916592             1.0          36.0       11/19/2019   \n",
       "\n",
       "  Tahun_Kendaraan         Biaya  Sourcing_Channel  Hari_Diasuransikan  Target  \\\n",
       "0               0   2630.000000              15.0               131.0       0   \n",
       "1        <1 Tahun  31183.756781               0.0                 0.0       0   \n",
       "2        <1 Tahun  31183.756781               0.0               181.0       0   \n",
       "3       1-2 Tahun  31183.756781             124.0                 0.0       0   \n",
       "4        >2 Tahun  31183.756781               0.0                 0.0       1   \n",
       "\n",
       "   tahun_kendaraan  \n",
       "0                0  \n",
       "1                1  \n",
       "2                1  \n",
       "3                2  \n",
       "4                3  "
      ]
     },
     "execution_count": 22,
     "metadata": {},
     "output_type": "execute_result"
    }
   ],
   "source": [
    "data_train.head()"
   ]
  },
  {
   "cell_type": "code",
   "execution_count": 132,
   "metadata": {},
   "outputs": [],
   "source": []
  },
  {
   "cell_type": "code",
   "execution_count": 23,
   "metadata": {},
   "outputs": [
    {
     "data": {
      "text/plain": [
       "'2018'"
      ]
     },
     "execution_count": 23,
     "metadata": {},
     "output_type": "execute_result"
    }
   ],
   "source": [
    "data_train['Tanggal_Asuransi'].iloc[0].split('/')[2]"
   ]
  },
  {
   "cell_type": "code",
   "execution_count": 24,
   "metadata": {},
   "outputs": [],
   "source": [
    "data_train['tanggal'] = data_train['Tanggal_Asuransi'].apply(lambda x:x.split('/')[1])"
   ]
  },
  {
   "cell_type": "code",
   "execution_count": 25,
   "metadata": {},
   "outputs": [],
   "source": [
    "data_train['bulan'] = data_train['Tanggal_Asuransi'].apply(lambda x:x.split('/')[0])"
   ]
  },
  {
   "cell_type": "code",
   "execution_count": 26,
   "metadata": {},
   "outputs": [],
   "source": [
    "data_train['tahun'] = data_train['Tanggal_Asuransi'].apply(lambda x:x.split('/')[2])"
   ]
  },
  {
   "cell_type": "code",
   "execution_count": 27,
   "metadata": {},
   "outputs": [],
   "source": [
    "data_train['tanggal']=data_train['tanggal'].apply(int)"
   ]
  },
  {
   "cell_type": "code",
   "execution_count": 28,
   "metadata": {},
   "outputs": [],
   "source": [
    "data_train['bulan']=data_train['bulan'].apply(int)"
   ]
  },
  {
   "cell_type": "code",
   "execution_count": 29,
   "metadata": {},
   "outputs": [],
   "source": [
    "data_train['tahun']=data_train['tahun'].apply(int)"
   ]
  },
  {
   "cell_type": "code",
   "execution_count": 30,
   "metadata": {},
   "outputs": [
    {
     "data": {
      "text/html": [
       "<div>\n",
       "<style scoped>\n",
       "    .dataframe tbody tr th:only-of-type {\n",
       "        vertical-align: middle;\n",
       "    }\n",
       "\n",
       "    .dataframe tbody tr th {\n",
       "        vertical-align: top;\n",
       "    }\n",
       "\n",
       "    .dataframe thead th {\n",
       "        text-align: right;\n",
       "    }\n",
       "</style>\n",
       "<table border=\"1\" class=\"dataframe\">\n",
       "  <thead>\n",
       "    <tr style=\"text-align: right;\">\n",
       "      <th></th>\n",
       "      <th>id</th>\n",
       "      <th>Gender</th>\n",
       "      <th>Umur</th>\n",
       "      <th>Izin_Mengemudi</th>\n",
       "      <th>Kode_Wilayah</th>\n",
       "      <th>Tanggal_Asuransi</th>\n",
       "      <th>Tahun_Kendaraan</th>\n",
       "      <th>Biaya</th>\n",
       "      <th>Sourcing_Channel</th>\n",
       "      <th>Hari_Diasuransikan</th>\n",
       "      <th>Target</th>\n",
       "      <th>tahun_kendaraan</th>\n",
       "      <th>tanggal</th>\n",
       "      <th>bulan</th>\n",
       "      <th>tahun</th>\n",
       "    </tr>\n",
       "  </thead>\n",
       "  <tbody>\n",
       "    <tr>\n",
       "      <th>0</th>\n",
       "      <td>58609</td>\n",
       "      <td>Pria</td>\n",
       "      <td>65.000000</td>\n",
       "      <td>1.0</td>\n",
       "      <td>48.0</td>\n",
       "      <td>11/4/2018</td>\n",
       "      <td>0</td>\n",
       "      <td>2630.000000</td>\n",
       "      <td>15.0</td>\n",
       "      <td>131.0</td>\n",
       "      <td>0</td>\n",
       "      <td>0</td>\n",
       "      <td>4</td>\n",
       "      <td>11</td>\n",
       "      <td>2018</td>\n",
       "    </tr>\n",
       "    <tr>\n",
       "      <th>1</th>\n",
       "      <td>208222</td>\n",
       "      <td>Wanita</td>\n",
       "      <td>22.000000</td>\n",
       "      <td>1.0</td>\n",
       "      <td>21.0</td>\n",
       "      <td>2/2/2018</td>\n",
       "      <td>&lt;1 Tahun</td>\n",
       "      <td>31183.756781</td>\n",
       "      <td>0.0</td>\n",
       "      <td>0.0</td>\n",
       "      <td>0</td>\n",
       "      <td>1</td>\n",
       "      <td>2</td>\n",
       "      <td>2</td>\n",
       "      <td>2018</td>\n",
       "    </tr>\n",
       "    <tr>\n",
       "      <th>2</th>\n",
       "      <td>345428</td>\n",
       "      <td>Wanita</td>\n",
       "      <td>24.000000</td>\n",
       "      <td>1.0</td>\n",
       "      <td>0.0</td>\n",
       "      <td>5/12/2019</td>\n",
       "      <td>&lt;1 Tahun</td>\n",
       "      <td>31183.756781</td>\n",
       "      <td>0.0</td>\n",
       "      <td>181.0</td>\n",
       "      <td>0</td>\n",
       "      <td>1</td>\n",
       "      <td>12</td>\n",
       "      <td>5</td>\n",
       "      <td>2019</td>\n",
       "    </tr>\n",
       "    <tr>\n",
       "      <th>3</th>\n",
       "      <td>236831</td>\n",
       "      <td>Pria</td>\n",
       "      <td>58.000000</td>\n",
       "      <td>1.0</td>\n",
       "      <td>46.0</td>\n",
       "      <td>0/0/0</td>\n",
       "      <td>1-2 Tahun</td>\n",
       "      <td>31183.756781</td>\n",
       "      <td>124.0</td>\n",
       "      <td>0.0</td>\n",
       "      <td>0</td>\n",
       "      <td>2</td>\n",
       "      <td>0</td>\n",
       "      <td>0</td>\n",
       "      <td>0</td>\n",
       "    </tr>\n",
       "    <tr>\n",
       "      <th>4</th>\n",
       "      <td>280181</td>\n",
       "      <td>Pria</td>\n",
       "      <td>38.916592</td>\n",
       "      <td>1.0</td>\n",
       "      <td>36.0</td>\n",
       "      <td>11/19/2019</td>\n",
       "      <td>&gt;2 Tahun</td>\n",
       "      <td>31183.756781</td>\n",
       "      <td>0.0</td>\n",
       "      <td>0.0</td>\n",
       "      <td>1</td>\n",
       "      <td>3</td>\n",
       "      <td>19</td>\n",
       "      <td>11</td>\n",
       "      <td>2019</td>\n",
       "    </tr>\n",
       "  </tbody>\n",
       "</table>\n",
       "</div>"
      ],
      "text/plain": [
       "       id  Gender       Umur  Izin_Mengemudi  Kode_Wilayah Tanggal_Asuransi  \\\n",
       "0   58609    Pria  65.000000             1.0          48.0        11/4/2018   \n",
       "1  208222  Wanita  22.000000             1.0          21.0         2/2/2018   \n",
       "2  345428  Wanita  24.000000             1.0           0.0        5/12/2019   \n",
       "3  236831    Pria  58.000000             1.0          46.0            0/0/0   \n",
       "4  280181    Pria  38.916592             1.0          36.0       11/19/2019   \n",
       "\n",
       "  Tahun_Kendaraan         Biaya  Sourcing_Channel  Hari_Diasuransikan  Target  \\\n",
       "0               0   2630.000000              15.0               131.0       0   \n",
       "1        <1 Tahun  31183.756781               0.0                 0.0       0   \n",
       "2        <1 Tahun  31183.756781               0.0               181.0       0   \n",
       "3       1-2 Tahun  31183.756781             124.0                 0.0       0   \n",
       "4        >2 Tahun  31183.756781               0.0                 0.0       1   \n",
       "\n",
       "   tahun_kendaraan  tanggal  bulan  tahun  \n",
       "0                0        4     11   2018  \n",
       "1                1        2      2   2018  \n",
       "2                1       12      5   2019  \n",
       "3                2        0      0      0  \n",
       "4                3       19     11   2019  "
      ]
     },
     "execution_count": 30,
     "metadata": {},
     "output_type": "execute_result"
    }
   ],
   "source": [
    "data_train.head()"
   ]
  },
  {
   "cell_type": "code",
   "execution_count": 115,
   "metadata": {},
   "outputs": [
    {
     "data": {
      "text/html": [
       "<div>\n",
       "<style scoped>\n",
       "    .dataframe tbody tr th:only-of-type {\n",
       "        vertical-align: middle;\n",
       "    }\n",
       "\n",
       "    .dataframe tbody tr th {\n",
       "        vertical-align: top;\n",
       "    }\n",
       "\n",
       "    .dataframe thead th {\n",
       "        text-align: right;\n",
       "    }\n",
       "</style>\n",
       "<table border=\"1\" class=\"dataframe\">\n",
       "  <thead>\n",
       "    <tr style=\"text-align: right;\">\n",
       "      <th></th>\n",
       "      <th>id</th>\n",
       "      <th>Umur</th>\n",
       "      <th>Izin_Mengemudi</th>\n",
       "      <th>Kode_Wilayah</th>\n",
       "      <th>Biaya</th>\n",
       "      <th>Sourcing_Channel</th>\n",
       "      <th>Hari_Diasuransikan</th>\n",
       "      <th>Target</th>\n",
       "      <th>tahun_kendaraan</th>\n",
       "      <th>tanggal</th>\n",
       "      <th>bulan</th>\n",
       "      <th>tahun</th>\n",
       "    </tr>\n",
       "  </thead>\n",
       "  <tbody>\n",
       "    <tr>\n",
       "      <th>id</th>\n",
       "      <td>1.000000</td>\n",
       "      <td>-0.026307</td>\n",
       "      <td>0.004154</td>\n",
       "      <td>0.001421</td>\n",
       "      <td>0.012080</td>\n",
       "      <td>-0.016900</td>\n",
       "      <td>-0.000369</td>\n",
       "      <td>0.166621</td>\n",
       "      <td>-0.006136</td>\n",
       "      <td>0.024608</td>\n",
       "      <td>0.019696</td>\n",
       "      <td>0.045671</td>\n",
       "    </tr>\n",
       "    <tr>\n",
       "      <th>Umur</th>\n",
       "      <td>-0.026307</td>\n",
       "      <td>1.000000</td>\n",
       "      <td>-0.055928</td>\n",
       "      <td>0.026029</td>\n",
       "      <td>0.056324</td>\n",
       "      <td>-0.371842</td>\n",
       "      <td>0.000104</td>\n",
       "      <td>0.117283</td>\n",
       "      <td>0.296471</td>\n",
       "      <td>-0.069346</td>\n",
       "      <td>-0.043961</td>\n",
       "      <td>-0.117188</td>\n",
       "    </tr>\n",
       "    <tr>\n",
       "      <th>Izin_Mengemudi</th>\n",
       "      <td>0.004154</td>\n",
       "      <td>-0.055928</td>\n",
       "      <td>1.000000</td>\n",
       "      <td>0.000906</td>\n",
       "      <td>-0.007025</td>\n",
       "      <td>0.014180</td>\n",
       "      <td>0.000757</td>\n",
       "      <td>0.009952</td>\n",
       "      <td>-0.009371</td>\n",
       "      <td>0.003646</td>\n",
       "      <td>-0.001249</td>\n",
       "      <td>0.005488</td>\n",
       "    </tr>\n",
       "    <tr>\n",
       "      <th>Kode_Wilayah</th>\n",
       "      <td>0.001421</td>\n",
       "      <td>0.026029</td>\n",
       "      <td>0.000906</td>\n",
       "      <td>1.000000</td>\n",
       "      <td>-0.005162</td>\n",
       "      <td>-0.020518</td>\n",
       "      <td>-0.001515</td>\n",
       "      <td>0.008645</td>\n",
       "      <td>0.016497</td>\n",
       "      <td>-0.003793</td>\n",
       "      <td>-0.003739</td>\n",
       "      <td>-0.007653</td>\n",
       "    </tr>\n",
       "    <tr>\n",
       "      <th>Biaya</th>\n",
       "      <td>0.012080</td>\n",
       "      <td>0.056324</td>\n",
       "      <td>-0.007025</td>\n",
       "      <td>-0.005162</td>\n",
       "      <td>1.000000</td>\n",
       "      <td>-0.092225</td>\n",
       "      <td>-0.001877</td>\n",
       "      <td>0.021888</td>\n",
       "      <td>0.024676</td>\n",
       "      <td>0.000821</td>\n",
       "      <td>0.000706</td>\n",
       "      <td>0.002319</td>\n",
       "    </tr>\n",
       "    <tr>\n",
       "      <th>Sourcing_Channel</th>\n",
       "      <td>-0.016900</td>\n",
       "      <td>-0.371842</td>\n",
       "      <td>0.014180</td>\n",
       "      <td>-0.020518</td>\n",
       "      <td>-0.092225</td>\n",
       "      <td>1.000000</td>\n",
       "      <td>0.000187</td>\n",
       "      <td>-0.224623</td>\n",
       "      <td>-0.250008</td>\n",
       "      <td>0.074135</td>\n",
       "      <td>0.049419</td>\n",
       "      <td>0.127501</td>\n",
       "    </tr>\n",
       "    <tr>\n",
       "      <th>Hari_Diasuransikan</th>\n",
       "      <td>-0.000369</td>\n",
       "      <td>0.000104</td>\n",
       "      <td>0.000757</td>\n",
       "      <td>-0.001515</td>\n",
       "      <td>-0.001877</td>\n",
       "      <td>0.000187</td>\n",
       "      <td>1.000000</td>\n",
       "      <td>-0.000528</td>\n",
       "      <td>0.002339</td>\n",
       "      <td>0.001599</td>\n",
       "      <td>0.002190</td>\n",
       "      <td>0.000739</td>\n",
       "    </tr>\n",
       "    <tr>\n",
       "      <th>Target</th>\n",
       "      <td>0.166621</td>\n",
       "      <td>0.117283</td>\n",
       "      <td>0.009952</td>\n",
       "      <td>0.008645</td>\n",
       "      <td>0.021888</td>\n",
       "      <td>-0.224623</td>\n",
       "      <td>-0.000528</td>\n",
       "      <td>1.000000</td>\n",
       "      <td>0.156254</td>\n",
       "      <td>-0.126126</td>\n",
       "      <td>-0.084283</td>\n",
       "      <td>-0.215662</td>\n",
       "    </tr>\n",
       "    <tr>\n",
       "      <th>tahun_kendaraan</th>\n",
       "      <td>-0.006136</td>\n",
       "      <td>0.296471</td>\n",
       "      <td>-0.009371</td>\n",
       "      <td>0.016497</td>\n",
       "      <td>0.024676</td>\n",
       "      <td>-0.250008</td>\n",
       "      <td>0.002339</td>\n",
       "      <td>0.156254</td>\n",
       "      <td>1.000000</td>\n",
       "      <td>-0.066688</td>\n",
       "      <td>-0.045474</td>\n",
       "      <td>-0.114815</td>\n",
       "    </tr>\n",
       "    <tr>\n",
       "      <th>tanggal</th>\n",
       "      <td>0.024608</td>\n",
       "      <td>-0.069346</td>\n",
       "      <td>0.003646</td>\n",
       "      <td>-0.003793</td>\n",
       "      <td>0.000821</td>\n",
       "      <td>0.074135</td>\n",
       "      <td>0.001599</td>\n",
       "      <td>-0.126126</td>\n",
       "      <td>-0.066688</td>\n",
       "      <td>1.000000</td>\n",
       "      <td>0.388718</td>\n",
       "      <td>0.627778</td>\n",
       "    </tr>\n",
       "    <tr>\n",
       "      <th>bulan</th>\n",
       "      <td>0.019696</td>\n",
       "      <td>-0.043961</td>\n",
       "      <td>-0.001249</td>\n",
       "      <td>-0.003739</td>\n",
       "      <td>0.000706</td>\n",
       "      <td>0.049419</td>\n",
       "      <td>0.002190</td>\n",
       "      <td>-0.084283</td>\n",
       "      <td>-0.045474</td>\n",
       "      <td>0.388718</td>\n",
       "      <td>1.000000</td>\n",
       "      <td>0.606656</td>\n",
       "    </tr>\n",
       "    <tr>\n",
       "      <th>tahun</th>\n",
       "      <td>0.045671</td>\n",
       "      <td>-0.117188</td>\n",
       "      <td>0.005488</td>\n",
       "      <td>-0.007653</td>\n",
       "      <td>0.002319</td>\n",
       "      <td>0.127501</td>\n",
       "      <td>0.000739</td>\n",
       "      <td>-0.215662</td>\n",
       "      <td>-0.114815</td>\n",
       "      <td>0.627778</td>\n",
       "      <td>0.606656</td>\n",
       "      <td>1.000000</td>\n",
       "    </tr>\n",
       "  </tbody>\n",
       "</table>\n",
       "</div>"
      ],
      "text/plain": [
       "                          id      Umur  Izin_Mengemudi  Kode_Wilayah  \\\n",
       "id                  1.000000 -0.026307        0.004154      0.001421   \n",
       "Umur               -0.026307  1.000000       -0.055928      0.026029   \n",
       "Izin_Mengemudi      0.004154 -0.055928        1.000000      0.000906   \n",
       "Kode_Wilayah        0.001421  0.026029        0.000906      1.000000   \n",
       "Biaya               0.012080  0.056324       -0.007025     -0.005162   \n",
       "Sourcing_Channel   -0.016900 -0.371842        0.014180     -0.020518   \n",
       "Hari_Diasuransikan -0.000369  0.000104        0.000757     -0.001515   \n",
       "Target              0.166621  0.117283        0.009952      0.008645   \n",
       "tahun_kendaraan    -0.006136  0.296471       -0.009371      0.016497   \n",
       "tanggal             0.024608 -0.069346        0.003646     -0.003793   \n",
       "bulan               0.019696 -0.043961       -0.001249     -0.003739   \n",
       "tahun               0.045671 -0.117188        0.005488     -0.007653   \n",
       "\n",
       "                       Biaya  Sourcing_Channel  Hari_Diasuransikan    Target  \\\n",
       "id                  0.012080         -0.016900           -0.000369  0.166621   \n",
       "Umur                0.056324         -0.371842            0.000104  0.117283   \n",
       "Izin_Mengemudi     -0.007025          0.014180            0.000757  0.009952   \n",
       "Kode_Wilayah       -0.005162         -0.020518           -0.001515  0.008645   \n",
       "Biaya               1.000000         -0.092225           -0.001877  0.021888   \n",
       "Sourcing_Channel   -0.092225          1.000000            0.000187 -0.224623   \n",
       "Hari_Diasuransikan -0.001877          0.000187            1.000000 -0.000528   \n",
       "Target              0.021888         -0.224623           -0.000528  1.000000   \n",
       "tahun_kendaraan     0.024676         -0.250008            0.002339  0.156254   \n",
       "tanggal             0.000821          0.074135            0.001599 -0.126126   \n",
       "bulan               0.000706          0.049419            0.002190 -0.084283   \n",
       "tahun               0.002319          0.127501            0.000739 -0.215662   \n",
       "\n",
       "                    tahun_kendaraan   tanggal     bulan     tahun  \n",
       "id                        -0.006136  0.024608  0.019696  0.045671  \n",
       "Umur                       0.296471 -0.069346 -0.043961 -0.117188  \n",
       "Izin_Mengemudi            -0.009371  0.003646 -0.001249  0.005488  \n",
       "Kode_Wilayah               0.016497 -0.003793 -0.003739 -0.007653  \n",
       "Biaya                      0.024676  0.000821  0.000706  0.002319  \n",
       "Sourcing_Channel          -0.250008  0.074135  0.049419  0.127501  \n",
       "Hari_Diasuransikan         0.002339  0.001599  0.002190  0.000739  \n",
       "Target                     0.156254 -0.126126 -0.084283 -0.215662  \n",
       "tahun_kendaraan            1.000000 -0.066688 -0.045474 -0.114815  \n",
       "tanggal                   -0.066688  1.000000  0.388718  0.627778  \n",
       "bulan                     -0.045474  0.388718  1.000000  0.606656  \n",
       "tahun                     -0.114815  0.627778  0.606656  1.000000  "
      ]
     },
     "execution_count": 115,
     "metadata": {},
     "output_type": "execute_result"
    }
   ],
   "source": [
    "aw=data_train.corr()\n",
    "aw"
   ]
  },
  {
   "cell_type": "code",
   "execution_count": 116,
   "metadata": {},
   "outputs": [
    {
     "data": {
      "text/plain": [
       "<matplotlib.axes._subplots.AxesSubplot at 0x19c578cc708>"
      ]
     },
     "execution_count": 116,
     "metadata": {},
     "output_type": "execute_result"
    },
    {
     "data": {
      "image/png": "[encoded data removed]",
      "text/plain": [
       "<Figure size 1080x576 with 2 Axes>"
      ]
     },
     "metadata": {
      "needs_background": "light"
     },
     "output_type": "display_data"
    }
   ],
   "source": [
    "plt.figure(figsize=(15,8))\n",
    "sns.heatmap(aw,annot=True,cmap='magma')"
   ]
  },
  {
   "cell_type": "code",
   "execution_count": 31,
   "metadata": {},
   "outputs": [],
   "source": [
    "data_train.drop(data_train.columns[5],axis=1,inplace=True)"
   ]
  },
  {
   "cell_type": "code",
   "execution_count": 32,
   "metadata": {},
   "outputs": [],
   "source": [
    "data_train.drop(data_train.columns[5],axis=1,inplace=True)"
   ]
  },
  {
   "cell_type": "code",
   "execution_count": 33,
   "metadata": {},
   "outputs": [
    {
     "name": "stdout",
     "output_type": "stream",
     "text": [
      "<class 'pandas.core.frame.DataFrame'>\n",
      "RangeIndex: 382154 entries, 0 to 382153\n",
      "Data columns (total 13 columns):\n",
      " #   Column              Non-Null Count   Dtype  \n",
      "---  ------              --------------   -----  \n",
      " 0   id                  382154 non-null  int64  \n",
      " 1   Umur                382154 non-null  float64\n",
      " 2   Izin_Mengemudi      382154 non-null  float64\n",
      " 3   Kode_Wilayah        382154 non-null  float64\n",
      " 4   Biaya               382154 non-null  float64\n",
      " 5   Sourcing_Channel    382154 non-null  float64\n",
      " 6   Hari_Diasuransikan  382154 non-null  float64\n",
      " 7   Target              382154 non-null  int64  \n",
      " 8   tahun_kendaraan     382154 non-null  int32  \n",
      " 9   tanggal             382154 non-null  int64  \n",
      " 10  bulan               382154 non-null  int64  \n",
      " 11  tahun               382154 non-null  int64  \n",
      " 12  Gender_Wanita       382154 non-null  uint8  \n",
      "dtypes: float64(6), int32(1), int64(5), uint8(1)\n",
      "memory usage: 33.9 MB\n"
     ]
    }
   ],
   "source": [
    "final_train = pd.concat([data_train,n_gender], axis=1)\n",
    "final_train.drop(['Gender'], axis=1, inplace=True)\n",
    "final_train.info()"
   ]
  },
  {
   "cell_type": "code",
   "execution_count": 34,
   "metadata": {},
   "outputs": [
    {
     "data": {
      "text/html": [
       "<div>\n",
       "<style scoped>\n",
       "    .dataframe tbody tr th:only-of-type {\n",
       "        vertical-align: middle;\n",
       "    }\n",
       "\n",
       "    .dataframe tbody tr th {\n",
       "        vertical-align: top;\n",
       "    }\n",
       "\n",
       "    .dataframe thead th {\n",
       "        text-align: right;\n",
       "    }\n",
       "</style>\n",
       "<table border=\"1\" class=\"dataframe\">\n",
       "  <thead>\n",
       "    <tr style=\"text-align: right;\">\n",
       "      <th></th>\n",
       "      <th>id</th>\n",
       "      <th>Umur</th>\n",
       "      <th>Izin_Mengemudi</th>\n",
       "      <th>Kode_Wilayah</th>\n",
       "      <th>Biaya</th>\n",
       "      <th>Sourcing_Channel</th>\n",
       "      <th>Hari_Diasuransikan</th>\n",
       "      <th>Target</th>\n",
       "      <th>tahun_kendaraan</th>\n",
       "      <th>tanggal</th>\n",
       "      <th>bulan</th>\n",
       "      <th>tahun</th>\n",
       "      <th>Gender_Wanita</th>\n",
       "    </tr>\n",
       "  </thead>\n",
       "  <tbody>\n",
       "    <tr>\n",
       "      <th>0</th>\n",
       "      <td>58609</td>\n",
       "      <td>65.000000</td>\n",
       "      <td>1.0</td>\n",
       "      <td>48.0</td>\n",
       "      <td>2630.000000</td>\n",
       "      <td>15.0</td>\n",
       "      <td>131.0</td>\n",
       "      <td>0</td>\n",
       "      <td>0</td>\n",
       "      <td>4</td>\n",
       "      <td>11</td>\n",
       "      <td>2018</td>\n",
       "      <td>0</td>\n",
       "    </tr>\n",
       "    <tr>\n",
       "      <th>1</th>\n",
       "      <td>208222</td>\n",
       "      <td>22.000000</td>\n",
       "      <td>1.0</td>\n",
       "      <td>21.0</td>\n",
       "      <td>31183.756781</td>\n",
       "      <td>0.0</td>\n",
       "      <td>0.0</td>\n",
       "      <td>0</td>\n",
       "      <td>1</td>\n",
       "      <td>2</td>\n",
       "      <td>2</td>\n",
       "      <td>2018</td>\n",
       "      <td>1</td>\n",
       "    </tr>\n",
       "    <tr>\n",
       "      <th>2</th>\n",
       "      <td>345428</td>\n",
       "      <td>24.000000</td>\n",
       "      <td>1.0</td>\n",
       "      <td>0.0</td>\n",
       "      <td>31183.756781</td>\n",
       "      <td>0.0</td>\n",
       "      <td>181.0</td>\n",
       "      <td>0</td>\n",
       "      <td>1</td>\n",
       "      <td>12</td>\n",
       "      <td>5</td>\n",
       "      <td>2019</td>\n",
       "      <td>1</td>\n",
       "    </tr>\n",
       "    <tr>\n",
       "      <th>3</th>\n",
       "      <td>236831</td>\n",
       "      <td>58.000000</td>\n",
       "      <td>1.0</td>\n",
       "      <td>46.0</td>\n",
       "      <td>31183.756781</td>\n",
       "      <td>124.0</td>\n",
       "      <td>0.0</td>\n",
       "      <td>0</td>\n",
       "      <td>2</td>\n",
       "      <td>0</td>\n",
       "      <td>0</td>\n",
       "      <td>0</td>\n",
       "      <td>0</td>\n",
       "    </tr>\n",
       "    <tr>\n",
       "      <th>4</th>\n",
       "      <td>280181</td>\n",
       "      <td>38.916592</td>\n",
       "      <td>1.0</td>\n",
       "      <td>36.0</td>\n",
       "      <td>31183.756781</td>\n",
       "      <td>0.0</td>\n",
       "      <td>0.0</td>\n",
       "      <td>1</td>\n",
       "      <td>3</td>\n",
       "      <td>19</td>\n",
       "      <td>11</td>\n",
       "      <td>2019</td>\n",
       "      <td>0</td>\n",
       "    </tr>\n",
       "  </tbody>\n",
       "</table>\n",
       "</div>"
      ],
      "text/plain": [
       "       id       Umur  Izin_Mengemudi  Kode_Wilayah         Biaya  \\\n",
       "0   58609  65.000000             1.0          48.0   2630.000000   \n",
       "1  208222  22.000000             1.0          21.0  31183.756781   \n",
       "2  345428  24.000000             1.0           0.0  31183.756781   \n",
       "3  236831  58.000000             1.0          46.0  31183.756781   \n",
       "4  280181  38.916592             1.0          36.0  31183.756781   \n",
       "\n",
       "   Sourcing_Channel  Hari_Diasuransikan  Target  tahun_kendaraan  tanggal  \\\n",
       "0              15.0               131.0       0                0        4   \n",
       "1               0.0                 0.0       0                1        2   \n",
       "2               0.0               181.0       0                1       12   \n",
       "3             124.0                 0.0       0                2        0   \n",
       "4               0.0                 0.0       1                3       19   \n",
       "\n",
       "   bulan  tahun  Gender_Wanita  \n",
       "0     11   2018              0  \n",
       "1      2   2018              1  \n",
       "2      5   2019              1  \n",
       "3      0      0              0  \n",
       "4     11   2019              0  "
      ]
     },
     "execution_count": 34,
     "metadata": {},
     "output_type": "execute_result"
    }
   ],
   "source": [
    "final_train.head()"
   ]
  },
  {
   "cell_type": "markdown",
   "metadata": {},
   "source": [
    "# TEST DATA"
   ]
  },
  {
   "cell_type": "code",
   "execution_count": 35,
   "metadata": {},
   "outputs": [
    {
     "data": {
      "text/html": [
       "<div>\n",
       "<style scoped>\n",
       "    .dataframe tbody tr th:only-of-type {\n",
       "        vertical-align: middle;\n",
       "    }\n",
       "\n",
       "    .dataframe tbody tr th {\n",
       "        vertical-align: top;\n",
       "    }\n",
       "\n",
       "    .dataframe thead th {\n",
       "        text-align: right;\n",
       "    }\n",
       "</style>\n",
       "<table border=\"1\" class=\"dataframe\">\n",
       "  <thead>\n",
       "    <tr style=\"text-align: right;\">\n",
       "      <th></th>\n",
       "      <th>id</th>\n",
       "      <th>Gender</th>\n",
       "      <th>Umur</th>\n",
       "      <th>Izin_Mengemudi</th>\n",
       "      <th>Kode_Wilayah</th>\n",
       "      <th>Tanggal_Asuransi</th>\n",
       "      <th>Tahun_Kendaraan</th>\n",
       "      <th>Biaya</th>\n",
       "      <th>Sourcing_Channel</th>\n",
       "      <th>Hari_Diasuransikan</th>\n",
       "    </tr>\n",
       "  </thead>\n",
       "  <tbody>\n",
       "    <tr>\n",
       "      <th>0</th>\n",
       "      <td>273737</td>\n",
       "      <td>NaN</td>\n",
       "      <td>NaN</td>\n",
       "      <td>1.0</td>\n",
       "      <td>11.0</td>\n",
       "      <td>NaN</td>\n",
       "      <td>NaN</td>\n",
       "      <td>NaN</td>\n",
       "      <td>NaN</td>\n",
       "      <td>193.0</td>\n",
       "    </tr>\n",
       "    <tr>\n",
       "      <th>1</th>\n",
       "      <td>49175</td>\n",
       "      <td>Pria</td>\n",
       "      <td>25.0</td>\n",
       "      <td>1.0</td>\n",
       "      <td>30.0</td>\n",
       "      <td>4/14/2018</td>\n",
       "      <td>&lt;1 Tahun</td>\n",
       "      <td>NaN</td>\n",
       "      <td>152.0</td>\n",
       "      <td>153.0</td>\n",
       "    </tr>\n",
       "    <tr>\n",
       "      <th>2</th>\n",
       "      <td>353494</td>\n",
       "      <td>Wanita</td>\n",
       "      <td>50.0</td>\n",
       "      <td>1.0</td>\n",
       "      <td>19.0</td>\n",
       "      <td>12/25/2019</td>\n",
       "      <td>NaN</td>\n",
       "      <td>31641.0</td>\n",
       "      <td>124.0</td>\n",
       "      <td>278.0</td>\n",
       "    </tr>\n",
       "    <tr>\n",
       "      <th>3</th>\n",
       "      <td>182676</td>\n",
       "      <td>Wanita</td>\n",
       "      <td>59.0</td>\n",
       "      <td>NaN</td>\n",
       "      <td>NaN</td>\n",
       "      <td>5/4/2018</td>\n",
       "      <td>1-2 Tahun</td>\n",
       "      <td>2630.0</td>\n",
       "      <td>26.0</td>\n",
       "      <td>202.0</td>\n",
       "    </tr>\n",
       "    <tr>\n",
       "      <th>4</th>\n",
       "      <td>498206</td>\n",
       "      <td>Wanita</td>\n",
       "      <td>57.0</td>\n",
       "      <td>NaN</td>\n",
       "      <td>28.0</td>\n",
       "      <td>4/17/2019</td>\n",
       "      <td>1-2 Tahun</td>\n",
       "      <td>26357.0</td>\n",
       "      <td>122.0</td>\n",
       "      <td>142.0</td>\n",
       "    </tr>\n",
       "  </tbody>\n",
       "</table>\n",
       "</div>"
      ],
      "text/plain": [
       "       id  Gender  Umur  Izin_Mengemudi  Kode_Wilayah Tanggal_Asuransi  \\\n",
       "0  273737     NaN   NaN             1.0          11.0              NaN   \n",
       "1   49175    Pria  25.0             1.0          30.0        4/14/2018   \n",
       "2  353494  Wanita  50.0             1.0          19.0       12/25/2019   \n",
       "3  182676  Wanita  59.0             NaN           NaN         5/4/2018   \n",
       "4  498206  Wanita  57.0             NaN          28.0        4/17/2019   \n",
       "\n",
       "  Tahun_Kendaraan    Biaya  Sourcing_Channel  Hari_Diasuransikan  \n",
       "0             NaN      NaN               NaN               193.0  \n",
       "1        <1 Tahun      NaN             152.0               153.0  \n",
       "2             NaN  31641.0             124.0               278.0  \n",
       "3       1-2 Tahun   2630.0              26.0               202.0  \n",
       "4       1-2 Tahun  26357.0             122.0               142.0  "
      ]
     },
     "execution_count": 35,
     "metadata": {},
     "output_type": "execute_result"
    }
   ],
   "source": [
    "data_test.head()"
   ]
  },
  {
   "cell_type": "code",
   "execution_count": 36,
   "metadata": {},
   "outputs": [],
   "source": [
    "def missing_values_table(df):\n",
    "        # Total missing values\n",
    "        mis_val = df.isnull().sum()\n",
    "        \n",
    "        # Percentage of missing values\n",
    "        mis_val_percent = 100 * df.isnull().sum() / len(df)\n",
    "        \n",
    "        # Make a table with the results\n",
    "        mis_val_table = pd.concat([mis_val, mis_val_percent], axis=1)\n",
    "        \n",
    "        # Rename the columns\n",
    "        mis_val_table_ren_columns = mis_val_table.rename(\n",
    "        columns = {0 : 'Missing Values', 1 : '% of Total Values'})\n",
    "        \n",
    "        # Sort the table by percentage of missing descending\n",
    "        mis_val_table_ren_columns = mis_val_table_ren_columns[\n",
    "            mis_val_table_ren_columns.iloc[:,1] != 0].sort_values(\n",
    "        '% of Total Values', ascending=False).round(1)\n",
    "        \n",
    "        # Print some summary information\n",
    "        print (\"Your selected dataframe has \" + str(df.shape[1]) + \" columns.\\n\"      \n",
    "            \"There are \" + str(mis_val_table_ren_columns.shape[0]) +\n",
    "              \" columns that have missing values.\")\n",
    "        \n",
    "        # Return the dataframe with missing information\n",
    "        return mis_val_table_ren_columns"
   ]
  },
  {
   "cell_type": "code",
   "execution_count": 37,
   "metadata": {},
   "outputs": [
    {
     "name": "stdout",
     "output_type": "stream",
     "text": [
      "Your selected dataframe has 10 columns.\n",
      "There are 9 columns that have missing values.\n"
     ]
    },
    {
     "data": {
      "text/html": [
       "<div>\n",
       "<style scoped>\n",
       "    .dataframe tbody tr th:only-of-type {\n",
       "        vertical-align: middle;\n",
       "    }\n",
       "\n",
       "    .dataframe tbody tr th {\n",
       "        vertical-align: top;\n",
       "    }\n",
       "\n",
       "    .dataframe thead th {\n",
       "        text-align: right;\n",
       "    }\n",
       "</style>\n",
       "<table border=\"1\" class=\"dataframe\">\n",
       "  <thead>\n",
       "    <tr style=\"text-align: right;\">\n",
       "      <th></th>\n",
       "      <th>Missing Values</th>\n",
       "      <th>% of Total Values</th>\n",
       "    </tr>\n",
       "  </thead>\n",
       "  <tbody>\n",
       "    <tr>\n",
       "      <th>Biaya</th>\n",
       "      <td>20847</td>\n",
       "      <td>26.6</td>\n",
       "    </tr>\n",
       "    <tr>\n",
       "      <th>Kode_Wilayah</th>\n",
       "      <td>19553</td>\n",
       "      <td>25.0</td>\n",
       "    </tr>\n",
       "    <tr>\n",
       "      <th>Hari_Diasuransikan</th>\n",
       "      <td>17220</td>\n",
       "      <td>22.0</td>\n",
       "    </tr>\n",
       "    <tr>\n",
       "      <th>Izin_Mengemudi</th>\n",
       "      <td>15713</td>\n",
       "      <td>20.1</td>\n",
       "    </tr>\n",
       "    <tr>\n",
       "      <th>Umur</th>\n",
       "      <td>15581</td>\n",
       "      <td>19.9</td>\n",
       "    </tr>\n",
       "    <tr>\n",
       "      <th>Tahun_Kendaraan</th>\n",
       "      <td>13551</td>\n",
       "      <td>17.3</td>\n",
       "    </tr>\n",
       "    <tr>\n",
       "      <th>Sourcing_Channel</th>\n",
       "      <td>13239</td>\n",
       "      <td>16.9</td>\n",
       "    </tr>\n",
       "    <tr>\n",
       "      <th>Tanggal_Asuransi</th>\n",
       "      <td>11252</td>\n",
       "      <td>14.4</td>\n",
       "    </tr>\n",
       "    <tr>\n",
       "      <th>Gender</th>\n",
       "      <td>7578</td>\n",
       "      <td>9.7</td>\n",
       "    </tr>\n",
       "  </tbody>\n",
       "</table>\n",
       "</div>"
      ],
      "text/plain": [
       "                    Missing Values  % of Total Values\n",
       "Biaya                        20847               26.6\n",
       "Kode_Wilayah                 19553               25.0\n",
       "Hari_Diasuransikan           17220               22.0\n",
       "Izin_Mengemudi               15713               20.1\n",
       "Umur                         15581               19.9\n",
       "Tahun_Kendaraan              13551               17.3\n",
       "Sourcing_Channel             13239               16.9\n",
       "Tanggal_Asuransi             11252               14.4\n",
       "Gender                        7578                9.7"
      ]
     },
     "execution_count": 37,
     "metadata": {},
     "output_type": "execute_result"
    }
   ],
   "source": [
    "train_missing= missing_values_table(data_test)\n",
    "train_missing"
   ]
  },
  {
   "cell_type": "code",
   "execution_count": 38,
   "metadata": {},
   "outputs": [],
   "source": [
    "data_test['Gender'] = data_test['Gender'].fillna('Pria')"
   ]
  },
  {
   "cell_type": "code",
   "execution_count": 39,
   "metadata": {},
   "outputs": [],
   "source": [
    "data_test['Umur'] = data_test['Umur'].fillna(data_test['Umur'].mean())"
   ]
  },
  {
   "cell_type": "code",
   "execution_count": 85,
   "metadata": {},
   "outputs": [],
   "source": []
  },
  {
   "cell_type": "code",
   "execution_count": 40,
   "metadata": {},
   "outputs": [],
   "source": [
    "data_test['Kode_Wilayah'] = data_test['Kode_Wilayah'].fillna(0)"
   ]
  },
  {
   "cell_type": "code",
   "execution_count": 41,
   "metadata": {},
   "outputs": [],
   "source": [
    "data_test['Sourcing_Channel'] = data_test['Sourcing_Channel'].fillna(0)"
   ]
  },
  {
   "cell_type": "code",
   "execution_count": 42,
   "metadata": {},
   "outputs": [],
   "source": [
    "data_test['Tanggal_Asuransi'] = data_test['Tanggal_Asuransi'].fillna('0/0/0')"
   ]
  },
  {
   "cell_type": "code",
   "execution_count": 43,
   "metadata": {},
   "outputs": [],
   "source": [
    "data_test['Izin_Mengemudi'] = data_test['Izin_Mengemudi'].fillna(1.0)"
   ]
  },
  {
   "cell_type": "code",
   "execution_count": 44,
   "metadata": {},
   "outputs": [],
   "source": [
    "data_test['Hari_Diasuransikan'] = data_test['Hari_Diasuransikan'].fillna(0)"
   ]
  },
  {
   "cell_type": "code",
   "execution_count": 45,
   "metadata": {},
   "outputs": [],
   "source": [
    "data_test['Tahun_Kendaraan'] = data_test['Tahun_Kendaraan'].fillna(0)"
   ]
  },
  {
   "cell_type": "code",
   "execution_count": 46,
   "metadata": {},
   "outputs": [],
   "source": [
    "data_test['Biaya'] = data_test['Biaya'].fillna(data_test['Biaya'].mean())"
   ]
  },
  {
   "cell_type": "code",
   "execution_count": 47,
   "metadata": {},
   "outputs": [
    {
     "data": {
      "text/plain": [
       "id                    0\n",
       "Gender                0\n",
       "Umur                  0\n",
       "Izin_Mengemudi        0\n",
       "Kode_Wilayah          0\n",
       "Tanggal_Asuransi      0\n",
       "Tahun_Kendaraan       0\n",
       "Biaya                 0\n",
       "Sourcing_Channel      0\n",
       "Hari_Diasuransikan    0\n",
       "dtype: int64"
      ]
     },
     "execution_count": 47,
     "metadata": {},
     "output_type": "execute_result"
    }
   ],
   "source": [
    "data_test.isnull().sum()"
   ]
  },
  {
   "cell_type": "code",
   "execution_count": 48,
   "metadata": {},
   "outputs": [
    {
     "data": {
      "text/html": [
       "<div>\n",
       "<style scoped>\n",
       "    .dataframe tbody tr th:only-of-type {\n",
       "        vertical-align: middle;\n",
       "    }\n",
       "\n",
       "    .dataframe tbody tr th {\n",
       "        vertical-align: top;\n",
       "    }\n",
       "\n",
       "    .dataframe thead th {\n",
       "        text-align: right;\n",
       "    }\n",
       "</style>\n",
       "<table border=\"1\" class=\"dataframe\">\n",
       "  <thead>\n",
       "    <tr style=\"text-align: right;\">\n",
       "      <th></th>\n",
       "      <th>Gender_Wanita</th>\n",
       "    </tr>\n",
       "  </thead>\n",
       "  <tbody>\n",
       "    <tr>\n",
       "      <th>0</th>\n",
       "      <td>0</td>\n",
       "    </tr>\n",
       "    <tr>\n",
       "      <th>1</th>\n",
       "      <td>0</td>\n",
       "    </tr>\n",
       "    <tr>\n",
       "      <th>2</th>\n",
       "      <td>1</td>\n",
       "    </tr>\n",
       "    <tr>\n",
       "      <th>3</th>\n",
       "      <td>1</td>\n",
       "    </tr>\n",
       "    <tr>\n",
       "      <th>4</th>\n",
       "      <td>1</td>\n",
       "    </tr>\n",
       "  </tbody>\n",
       "</table>\n",
       "</div>"
      ],
      "text/plain": [
       "   Gender_Wanita\n",
       "0              0\n",
       "1              0\n",
       "2              1\n",
       "3              1\n",
       "4              1"
      ]
     },
     "execution_count": 48,
     "metadata": {},
     "output_type": "execute_result"
    }
   ],
   "source": [
    "n_gender=data_test[['Gender']]\n",
    "n_gender=pd.get_dummies(n_gender,drop_first=True)\n",
    "n_gender.head()"
   ]
  },
  {
   "cell_type": "code",
   "execution_count": null,
   "metadata": {},
   "outputs": [],
   "source": []
  },
  {
   "cell_type": "code",
   "execution_count": 49,
   "metadata": {},
   "outputs": [],
   "source": [
    "col         = 'Tahun_Kendaraan'\n",
    "conditions  = [ data_test[col] == '1-2 Tahun', data_test[col] == '<1 Tahun', data_test[col] == '>2 Tahun' ]\n",
    "choices     = [ 2, 1, 3 ]\n",
    "    \n",
    "data_test[\"tahun_kendaraan\"] = np.select(conditions, choices, default=0)"
   ]
  },
  {
   "cell_type": "code",
   "execution_count": 50,
   "metadata": {},
   "outputs": [],
   "source": [
    "data_test['tanggal'] = data_test['Tanggal_Asuransi'].apply(lambda x:x.split('/')[1])"
   ]
  },
  {
   "cell_type": "code",
   "execution_count": 51,
   "metadata": {},
   "outputs": [],
   "source": [
    "data_test['bulan'] = data_test['Tanggal_Asuransi'].apply(lambda x:x.split('/')[0])"
   ]
  },
  {
   "cell_type": "code",
   "execution_count": 52,
   "metadata": {},
   "outputs": [],
   "source": [
    "data_test['tahun'] = data_test['Tanggal_Asuransi'].apply(lambda x:x.split('/')[2])"
   ]
  },
  {
   "cell_type": "code",
   "execution_count": 53,
   "metadata": {},
   "outputs": [],
   "source": [
    "data_test['tanggal']=data_test['tanggal'].apply(int)"
   ]
  },
  {
   "cell_type": "code",
   "execution_count": 54,
   "metadata": {},
   "outputs": [],
   "source": [
    "data_test['bulan']=data_test['bulan'].apply(int)"
   ]
  },
  {
   "cell_type": "code",
   "execution_count": 55,
   "metadata": {},
   "outputs": [],
   "source": [
    "data_test['tahun']=data_test['tahun'].apply(int)"
   ]
  },
  {
   "cell_type": "code",
   "execution_count": 59,
   "metadata": {},
   "outputs": [
    {
     "data": {
      "text/html": [
       "<div>\n",
       "<style scoped>\n",
       "    .dataframe tbody tr th:only-of-type {\n",
       "        vertical-align: middle;\n",
       "    }\n",
       "\n",
       "    .dataframe tbody tr th {\n",
       "        vertical-align: top;\n",
       "    }\n",
       "\n",
       "    .dataframe thead th {\n",
       "        text-align: right;\n",
       "    }\n",
       "</style>\n",
       "<table border=\"1\" class=\"dataframe\">\n",
       "  <thead>\n",
       "    <tr style=\"text-align: right;\">\n",
       "      <th></th>\n",
       "      <th>id</th>\n",
       "      <th>Gender</th>\n",
       "      <th>Umur</th>\n",
       "      <th>Izin_Mengemudi</th>\n",
       "      <th>Kode_Wilayah</th>\n",
       "      <th>Biaya</th>\n",
       "      <th>Sourcing_Channel</th>\n",
       "      <th>Hari_Diasuransikan</th>\n",
       "      <th>tahun_kendaraan</th>\n",
       "      <th>tanggal</th>\n",
       "      <th>bulan</th>\n",
       "      <th>tahun</th>\n",
       "    </tr>\n",
       "  </thead>\n",
       "  <tbody>\n",
       "    <tr>\n",
       "      <th>0</th>\n",
       "      <td>273737</td>\n",
       "      <td>Pria</td>\n",
       "      <td>41.207092</td>\n",
       "      <td>1.0</td>\n",
       "      <td>11.0</td>\n",
       "      <td>31888.958329</td>\n",
       "      <td>0.0</td>\n",
       "      <td>193.0</td>\n",
       "      <td>0</td>\n",
       "      <td>0</td>\n",
       "      <td>0</td>\n",
       "      <td>0</td>\n",
       "    </tr>\n",
       "    <tr>\n",
       "      <th>1</th>\n",
       "      <td>49175</td>\n",
       "      <td>Pria</td>\n",
       "      <td>25.000000</td>\n",
       "      <td>1.0</td>\n",
       "      <td>30.0</td>\n",
       "      <td>31888.958329</td>\n",
       "      <td>152.0</td>\n",
       "      <td>153.0</td>\n",
       "      <td>1</td>\n",
       "      <td>14</td>\n",
       "      <td>4</td>\n",
       "      <td>2018</td>\n",
       "    </tr>\n",
       "    <tr>\n",
       "      <th>2</th>\n",
       "      <td>353494</td>\n",
       "      <td>Wanita</td>\n",
       "      <td>50.000000</td>\n",
       "      <td>1.0</td>\n",
       "      <td>19.0</td>\n",
       "      <td>31641.000000</td>\n",
       "      <td>124.0</td>\n",
       "      <td>278.0</td>\n",
       "      <td>0</td>\n",
       "      <td>25</td>\n",
       "      <td>12</td>\n",
       "      <td>2019</td>\n",
       "    </tr>\n",
       "    <tr>\n",
       "      <th>3</th>\n",
       "      <td>182676</td>\n",
       "      <td>Wanita</td>\n",
       "      <td>59.000000</td>\n",
       "      <td>1.0</td>\n",
       "      <td>0.0</td>\n",
       "      <td>2630.000000</td>\n",
       "      <td>26.0</td>\n",
       "      <td>202.0</td>\n",
       "      <td>2</td>\n",
       "      <td>4</td>\n",
       "      <td>5</td>\n",
       "      <td>2018</td>\n",
       "    </tr>\n",
       "    <tr>\n",
       "      <th>4</th>\n",
       "      <td>498206</td>\n",
       "      <td>Wanita</td>\n",
       "      <td>57.000000</td>\n",
       "      <td>1.0</td>\n",
       "      <td>28.0</td>\n",
       "      <td>26357.000000</td>\n",
       "      <td>122.0</td>\n",
       "      <td>142.0</td>\n",
       "      <td>2</td>\n",
       "      <td>17</td>\n",
       "      <td>4</td>\n",
       "      <td>2019</td>\n",
       "    </tr>\n",
       "  </tbody>\n",
       "</table>\n",
       "</div>"
      ],
      "text/plain": [
       "       id  Gender       Umur  Izin_Mengemudi  Kode_Wilayah         Biaya  \\\n",
       "0  273737    Pria  41.207092             1.0          11.0  31888.958329   \n",
       "1   49175    Pria  25.000000             1.0          30.0  31888.958329   \n",
       "2  353494  Wanita  50.000000             1.0          19.0  31641.000000   \n",
       "3  182676  Wanita  59.000000             1.0           0.0   2630.000000   \n",
       "4  498206  Wanita  57.000000             1.0          28.0  26357.000000   \n",
       "\n",
       "   Sourcing_Channel  Hari_Diasuransikan  tahun_kendaraan  tanggal  bulan  \\\n",
       "0               0.0               193.0                0        0      0   \n",
       "1             152.0               153.0                1       14      4   \n",
       "2             124.0               278.0                0       25     12   \n",
       "3              26.0               202.0                2        4      5   \n",
       "4             122.0               142.0                2       17      4   \n",
       "\n",
       "   tahun  \n",
       "0      0  \n",
       "1   2018  \n",
       "2   2019  \n",
       "3   2018  \n",
       "4   2019  "
      ]
     },
     "execution_count": 59,
     "metadata": {},
     "output_type": "execute_result"
    }
   ],
   "source": [
    "data_test.head()"
   ]
  },
  {
   "cell_type": "code",
   "execution_count": 57,
   "metadata": {},
   "outputs": [],
   "source": [
    "data_test.drop(data_test.columns[5],axis=1,inplace=True)"
   ]
  },
  {
   "cell_type": "code",
   "execution_count": 58,
   "metadata": {},
   "outputs": [],
   "source": [
    "data_test.drop(data_test.columns[5],axis=1,inplace=True)"
   ]
  },
  {
   "cell_type": "code",
   "execution_count": 60,
   "metadata": {},
   "outputs": [
    {
     "name": "stdout",
     "output_type": "stream",
     "text": [
      "<class 'pandas.core.frame.DataFrame'>\n",
      "RangeIndex: 78273 entries, 0 to 78272\n",
      "Data columns (total 12 columns):\n",
      " #   Column              Non-Null Count  Dtype  \n",
      "---  ------              --------------  -----  \n",
      " 0   id                  78273 non-null  int64  \n",
      " 1   Umur                78273 non-null  float64\n",
      " 2   Izin_Mengemudi      78273 non-null  float64\n",
      " 3   Kode_Wilayah        78273 non-null  float64\n",
      " 4   Biaya               78273 non-null  float64\n",
      " 5   Sourcing_Channel    78273 non-null  float64\n",
      " 6   Hari_Diasuransikan  78273 non-null  float64\n",
      " 7   tahun_kendaraan     78273 non-null  int32  \n",
      " 8   tanggal             78273 non-null  int64  \n",
      " 9   bulan               78273 non-null  int64  \n",
      " 10  tahun               78273 non-null  int64  \n",
      " 11  Gender_Wanita       78273 non-null  uint8  \n",
      "dtypes: float64(6), int32(1), int64(4), uint8(1)\n",
      "memory usage: 6.3 MB\n"
     ]
    }
   ],
   "source": [
    "final_test = pd.concat([data_test,n_gender], axis=1)\n",
    "final_test.drop(['Gender'], axis=1, inplace=True)\n",
    "final_test.info()"
   ]
  },
  {
   "cell_type": "code",
   "execution_count": null,
   "metadata": {},
   "outputs": [],
   "source": []
  },
  {
   "cell_type": "code",
   "execution_count": 61,
   "metadata": {},
   "outputs": [
    {
     "name": "stdout",
     "output_type": "stream",
     "text": [
      "<class 'pandas.core.frame.DataFrame'>\n",
      "RangeIndex: 382154 entries, 0 to 382153\n",
      "Data columns (total 11 columns):\n",
      " #   Column              Non-Null Count   Dtype  \n",
      "---  ------              --------------   -----  \n",
      " 0   Umur                382154 non-null  float64\n",
      " 1   Izin_Mengemudi      382154 non-null  float64\n",
      " 2   Kode_Wilayah        382154 non-null  float64\n",
      " 3   Biaya               382154 non-null  float64\n",
      " 4   Sourcing_Channel    382154 non-null  float64\n",
      " 5   Hari_Diasuransikan  382154 non-null  float64\n",
      " 6   tahun_kendaraan     382154 non-null  int32  \n",
      " 7   tanggal             382154 non-null  int64  \n",
      " 8   bulan               382154 non-null  int64  \n",
      " 9   tahun               382154 non-null  int64  \n",
      " 10  Gender_Wanita       382154 non-null  uint8  \n",
      "dtypes: float64(6), int32(1), int64(3), uint8(1)\n",
      "memory usage: 28.1 MB\n",
      "<class 'pandas.core.frame.DataFrame'>\n",
      "RangeIndex: 78273 entries, 0 to 78272\n",
      "Data columns (total 11 columns):\n",
      " #   Column              Non-Null Count  Dtype  \n",
      "---  ------              --------------  -----  \n",
      " 0   Umur                78273 non-null  float64\n",
      " 1   Izin_Mengemudi      78273 non-null  float64\n",
      " 2   Kode_Wilayah        78273 non-null  float64\n",
      " 3   Biaya               78273 non-null  float64\n",
      " 4   Sourcing_Channel    78273 non-null  float64\n",
      " 5   Hari_Diasuransikan  78273 non-null  float64\n",
      " 6   tahun_kendaraan     78273 non-null  int32  \n",
      " 7   tanggal             78273 non-null  int64  \n",
      " 8   bulan               78273 non-null  int64  \n",
      " 9   tahun               78273 non-null  int64  \n",
      " 10  Gender_Wanita       78273 non-null  uint8  \n",
      "dtypes: float64(6), int32(1), int64(3), uint8(1)\n",
      "memory usage: 5.7 MB\n"
     ]
    }
   ],
   "source": [
    "X_train = final_train.drop(['id', 'Target'], axis=1)\n",
    "y_train = final_train['Target']\n",
    "X_test = final_test.drop(['id'], axis=1)\n",
    "\n",
    "X_train.info()\n",
    "X_test.info()"
   ]
  },
  {
   "cell_type": "code",
   "execution_count": 62,
   "metadata": {},
   "outputs": [],
   "source": [
    "# IMPORTANT! ONLY SAMPLING IN TRAIN DATA\n",
    "from imblearn.over_sampling import SMOTE\n",
    "sm  =SMOTE()\n",
    "\n",
    "X_train_s ,y_train_s = sm.fit_resample(X_train,y_train)"
   ]
  },
  {
   "cell_type": "code",
   "execution_count": 63,
   "metadata": {},
   "outputs": [
    {
     "name": "stdout",
     "output_type": "stream",
     "text": [
      "0    319553\n",
      "1     62601\n",
      "Name: Target, dtype: int64\n",
      "0    319553\n",
      "1    319553\n",
      "Name: Target, dtype: int64\n"
     ]
    }
   ],
   "source": [
    "print(y_train.value_counts())\n",
    "print(y_train_s.value_counts())"
   ]
  },
  {
   "cell_type": "markdown",
   "metadata": {},
   "source": [
    "# oversampling"
   ]
  },
  {
   "cell_type": "code",
   "execution_count": 74,
   "metadata": {},
   "outputs": [
    {
     "name": "stdout",
     "output_type": "stream",
     "text": [
      "(639106, 11) (639106,)\n"
     ]
    }
   ],
   "source": [
    "#Enter Code Here\n",
    "from imblearn import over_sampling\n",
    "X_train_over, y_train_over = over_sampling.RandomOverSampler(random_state=42).fit_resample(X_train,y_train)\n",
    "print(X_train_over.shape,y_train_over.shape)"
   ]
  },
  {
   "cell_type": "code",
   "execution_count": 75,
   "metadata": {},
   "outputs": [
    {
     "name": "stdout",
     "output_type": "stream",
     "text": [
      "0    319553\n",
      "1     62601\n",
      "Name: Target, dtype: int64\n",
      "0    319553\n",
      "1    319553\n",
      "Name: Target, dtype: int64\n"
     ]
    }
   ],
   "source": [
    "print(y_train.value_counts())\n",
    "print(y_train_over.value_counts())"
   ]
  },
  {
   "cell_type": "code",
   "execution_count": 87,
   "metadata": {},
   "outputs": [
    {
     "data": {
      "image/png": "[encoded data removed]",
      "text/plain": [
       "<Figure size 504x576 with 1 Axes>"
      ]
     },
     "metadata": {},
     "output_type": "display_data"
    }
   ],
   "source": [
    "df_check = pd.concat([X_train_over,y_train_over],axis=1)\n",
    "df1 = df_check.groupby(['Target']).count()['Sourcing_Channel'].reset_index()\n",
    "df1.columns = ['Target','Count']\n",
    "df1.head()\n",
    "sns.set(style=\"white\")\n",
    "\n",
    "\n",
    "# membuat bar chart\n",
    "plt.figure(figsize = (7, 8))\n",
    "ax = sns.barplot(\n",
    "    x = 'Target',\n",
    "    y = 'Count',\n",
    "    data = df1)\n",
    "ax.set_xticklabels(['0','1'], fontsize = 12, fontweight = 'semibold')\n",
    "\n",
    "# membuat judul dan merubah nama xlabel & ylabel\n",
    "plt.title('Target Count after OverSampling', fontsize = 18, fontweight = 'bold')\n",
    "plt.xlabel('Labels', fontsize = 15, fontweight = 'bold')\n",
    "plt.ylabel('Frequency', fontsize = 15, fontweight = 'bold');\n",
    "\n",
    "# memunculkan angka di tiap bar\n",
    "for x in ax.patches:\n",
    "    ax.annotate(\n",
    "            format(x.get_height(), '.0f'),\n",
    "            (x.get_x() + x.get_width() / 2., x.get_height()), \n",
    "            ha = 'center',\n",
    "            va = 'center',\n",
    "            fontweight = 'bold',\n",
    "            size = 13,\n",
    "            xytext = (0, 7), \n",
    "            textcoords = 'offset points')"
   ]
  },
  {
   "cell_type": "markdown",
   "metadata": {},
   "source": [
    "# undersampling"
   ]
  },
  {
   "cell_type": "code",
   "execution_count": 88,
   "metadata": {},
   "outputs": [
    {
     "data": {
      "text/plain": [
       "0    319553\n",
       "1     62601\n",
       "Name: Target, dtype: int64"
      ]
     },
     "execution_count": 88,
     "metadata": {},
     "output_type": "execute_result"
    }
   ],
   "source": [
    "#Enter Code Here\n",
    "final_train['Target'].value_counts()"
   ]
  },
  {
   "cell_type": "code",
   "execution_count": 92,
   "metadata": {},
   "outputs": [],
   "source": [
    "# Class count\n",
    "count_class_0, count_class_1 = final_train['Target'].value_counts()\n",
    "\n",
    "# Divide by class\n",
    "df_class_0 = final_train[final_train['Target'] == 0]\n",
    "df_class_1 = final_train[final_train['Target'] == 1]"
   ]
  },
  {
   "cell_type": "code",
   "execution_count": 93,
   "metadata": {},
   "outputs": [
    {
     "name": "stdout",
     "output_type": "stream",
     "text": [
      "Random UnderSampling:\n",
      "0    62601\n",
      "1    62601\n",
      "Name: Target, dtype: int64\n"
     ]
    }
   ],
   "source": [
    "# Undersample 0-class and concat the DataFrames of both class\n",
    "df_class_0_under = df_class_0.sample(count_class_1)\n",
    "df_under = pd.concat([df_class_0_under, df_class_1], axis=0)\n",
    "\n",
    "print('Random UnderSampling:')\n",
    "print(df_under['Target'].value_counts())"
   ]
  },
  {
   "cell_type": "code",
   "execution_count": 94,
   "metadata": {},
   "outputs": [
    {
     "name": "stderr",
     "output_type": "stream",
     "text": [
      "C:\\Users\\Zaki\\anaconda3\\lib\\site-packages\\seaborn\\_decorators.py:43: FutureWarning: Pass the following variable as a keyword arg: x. From version 0.12, the only valid positional argument will be `data`, and passing other arguments without an explicit keyword will result in an error or misinterpretation.\n",
      "  FutureWarning\n"
     ]
    },
    {
     "data": {
      "text/plain": [
       "<matplotlib.axes._subplots.AxesSubplot at 0x124050d59c8>"
      ]
     },
     "execution_count": 94,
     "metadata": {},
     "output_type": "execute_result"
    },
    {
     "data": {
      "image/png": "[encoded data removed]",
      "text/plain": [
       "<Figure size 432x288 with 1 Axes>"
      ]
     },
     "metadata": {},
     "output_type": "display_data"
    }
   ],
   "source": [
    "sns.countplot(df_under['Target'])"
   ]
  },
  {
   "cell_type": "code",
   "execution_count": null,
   "metadata": {},
   "outputs": [],
   "source": [
    "def show_feature_importance(model):\n",
    "    feat_importances = pd.Series(model.feature_importances_, index=X.columns)\n",
    "    ax = feat_importances.nlargest(25).plot(kind='barh', figsize=(10, 8))\n",
    "    ax.invert_yaxis()\n",
    "\n",
    "    plt.xlabel('score')\n",
    "    plt.ylabel('feature')\n",
    "    plt.title('feature importance score')"
   ]
  },
  {
   "cell_type": "markdown",
   "metadata": {},
   "source": [
    "# biasa"
   ]
  },
  {
   "cell_type": "code",
   "execution_count": 66,
   "metadata": {},
   "outputs": [],
   "source": [
    "from sklearn.model_selection import GridSearchCV,RandomizedSearchCV\n",
    "from sklearn.ensemble import RandomForestClassifier\n",
    "rfc=RandomForestClassifier()"
   ]
  },
  {
   "cell_type": "code",
   "execution_count": 67,
   "metadata": {},
   "outputs": [
    {
     "data": {
      "text/plain": [
       "RandomizedSearchCV(cv=5, error_score=nan,\n",
       "                   estimator=RandomForestClassifier(bootstrap=True,\n",
       "                                                    ccp_alpha=0.0,\n",
       "                                                    class_weight=None,\n",
       "                                                    criterion='gini',\n",
       "                                                    max_depth=None,\n",
       "                                                    max_features='auto',\n",
       "                                                    max_leaf_nodes=None,\n",
       "                                                    max_samples=None,\n",
       "                                                    min_impurity_decrease=0.0,\n",
       "                                                    min_impurity_split=None,\n",
       "                                                    min_samples_leaf=1,\n",
       "                                                    min_samples_split=2,\n",
       "                                                    min_weight_fraction_leaf=0.0,\n",
       "                                                    n_estimators=100,\n",
       "                                                    n_jobs...\n",
       "                   iid='deprecated', n_iter=20, n_jobs=None,\n",
       "                   param_distributions={'bootstrap': [True],\n",
       "                                        'criterion': ['gini', 'entropy'],\n",
       "                                        'max_depth': [15, 20, 25],\n",
       "                                        'max_features': ['auto', 'sqrt', 10],\n",
       "                                        'min_samples_leaf': [2, 3],\n",
       "                                        'min_samples_split': [2, 3],\n",
       "                                        'n_estimators': [400, 450, 500, 550]},\n",
       "                   pre_dispatch='2*n_jobs', random_state=None, refit=True,\n",
       "                   return_train_score=False, scoring='accuracy', verbose=0)"
      ]
     },
     "execution_count": 67,
     "metadata": {},
     "output_type": "execute_result"
    }
   ],
   "source": [
    "param_grid =  {'n_estimators': [400,450,500,550],\n",
    "                            'criterion':['gini','entropy'],\n",
    "                                  'bootstrap': [True],\n",
    "                                  'max_depth': [15, 20, 25],\n",
    "                                  'max_features': ['auto','sqrt', 10],\n",
    "                                  'min_samples_leaf': [2,3],\n",
    "                                  'min_samples_split': [2,3]}\n",
    "\n",
    "rscv = RandomizedSearchCV(rfc,param_grid,scoring='accuracy',n_iter=20,cv=5)\n",
    "rscv.fit(X_train, y_train)"
   ]
  },
  {
   "cell_type": "code",
   "execution_count": 68,
   "metadata": {},
   "outputs": [
    {
     "data": {
      "text/plain": [
       "{'n_estimators': 450,\n",
       " 'min_samples_split': 3,\n",
       " 'min_samples_leaf': 3,\n",
       " 'max_features': 'auto',\n",
       " 'max_depth': 15,\n",
       " 'criterion': 'entropy',\n",
       " 'bootstrap': True}"
      ]
     },
     "execution_count": 68,
     "metadata": {},
     "output_type": "execute_result"
    }
   ],
   "source": [
    "rscv.best_params_"
   ]
  },
  {
   "cell_type": "code",
   "execution_count": 69,
   "metadata": {},
   "outputs": [
    {
     "data": {
      "text/plain": [
       "0.8385415314141904"
      ]
     },
     "execution_count": 69,
     "metadata": {},
     "output_type": "execute_result"
    }
   ],
   "source": [
    "rscv.best_score_"
   ]
  },
  {
   "cell_type": "code",
   "execution_count": null,
   "metadata": {},
   "outputs": [],
   "source": [
    "show_feature_importance(rfc)"
   ]
  },
  {
   "cell_type": "code",
   "execution_count": 70,
   "metadata": {},
   "outputs": [],
   "source": [
    "from sklearn.ensemble import RandomForestClassifier\n",
    "model_rfc = RandomForestClassifier(n_estimators= 450,\n",
    " min_samples_split= 3,\n",
    " min_samples_leaf= 3,\n",
    " max_features= 'auto',\n",
    " max_depth= 15,\n",
    " criterion= 'entropy',\n",
    " bootstrap= True)\n",
    "model_rfc.fit(X_train, y_train)\n",
    "pred_rfc = model_rfc.predict(X_test)"
   ]
  },
  {
   "cell_type": "markdown",
   "metadata": {},
   "source": [
    "# smote"
   ]
  },
  {
   "cell_type": "code",
   "execution_count": 64,
   "metadata": {},
   "outputs": [
    {
     "name": "stderr",
     "output_type": "stream",
     "text": [
      "C:\\Users\\Zaki\\anaconda3\\lib\\site-packages\\xgboost\\sklearn.py:888: UserWarning: The use of label encoder in XGBClassifier is deprecated and will be removed in a future release. To remove this warning, do the following: 1) Pass option use_label_encoder=False when constructing XGBClassifier object; and 2) Encode your labels (y) as integers starting with 0, i.e. 0, 1, 2, ..., [num_class - 1].\n",
      "  warnings.warn(label_encoder_deprecation_msg, UserWarning)\n"
     ]
    },
    {
     "name": "stdout",
     "output_type": "stream",
     "text": [
      "[05:28:46] WARNING: C:/Users/Administrator/workspace/xgboost-win64_release_1.3.0/src/learner.cc:1061: Starting in XGBoost 1.3.0, the default evaluation metric used with the objective 'binary:logistic' was changed from 'error' to 'logloss'. Explicitly set eval_metric if you'd like to restore the old behavior.\n"
     ]
    }
   ],
   "source": [
    "from xgboost import XGBClassifier\n",
    "model_xgb = XGBClassifier()\n",
    "model_xgb.fit(X_train_s, y_train_s)\n",
    "pred_xgb = model_xgb.predict(X_test)"
   ]
  },
  {
   "cell_type": "code",
   "execution_count": null,
   "metadata": {},
   "outputs": [],
   "source": []
  },
  {
   "cell_type": "code",
   "execution_count": null,
   "metadata": {},
   "outputs": [],
   "source": []
  },
  {
   "cell_type": "code",
   "execution_count": 65,
   "metadata": {},
   "outputs": [
    {
     "name": "stdout",
     "output_type": "stream",
     "text": [
      "(78273, 2)\n"
     ]
    },
    {
     "data": {
      "text/plain": [
       "0    61678\n",
       "1    16595\n",
       "Name: Target, dtype: int64"
      ]
     },
     "execution_count": 65,
     "metadata": {},
     "output_type": "execute_result"
    }
   ],
   "source": [
    "#print(\"Accuracy on Traning set: \",model_rfc.score(X_train,y_train))\n",
    "hasil_xgb = pd.DataFrame({\n",
    "    'id' : final_test['id'],\n",
    "    'Target' : pred_xgb\n",
    "})\n",
    "\n",
    "print(hasil_xgb.shape)\n",
    "\n",
    "hasil_xgb['Target'].value_counts()"
   ]
  },
  {
   "cell_type": "code",
   "execution_count": 66,
   "metadata": {},
   "outputs": [],
   "source": [
    "hasil_xgb.to_csv('submission_xgb_smote.csv',index=False)"
   ]
  },
  {
   "cell_type": "code",
   "execution_count": null,
   "metadata": {},
   "outputs": [],
   "source": []
  },
  {
   "cell_type": "code",
   "execution_count": null,
   "metadata": {},
   "outputs": [],
   "source": []
  },
  {
   "cell_type": "code",
   "execution_count": null,
   "metadata": {},
   "outputs": [],
   "source": [
    "subsample= 0.65,\n",
    " sampling_method= 'uniform',\n",
    " reg_lambda= 10,\n",
    " reg_alpha= 1,\n",
    " n_estimators= 550,\n",
    " min_child_weight= 0.01,\n",
    " max_depth= None,\n",
    " learning_rate= 0.5,\n",
    " gamma= 0.5,\n",
    " colsample_bytree= 0.75"
   ]
  },
  {
   "cell_type": "code",
   "execution_count": 152,
   "metadata": {},
   "outputs": [
    {
     "name": "stderr",
     "output_type": "stream",
     "text": [
      "C:\\Users\\Zaki\\anaconda3\\lib\\site-packages\\xgboost\\sklearn.py:888: UserWarning: The use of label encoder in XGBClassifier is deprecated and will be removed in a future release. To remove this warning, do the following: 1) Pass option use_label_encoder=False when constructing XGBClassifier object; and 2) Encode your labels (y) as integers starting with 0, i.e. 0, 1, 2, ..., [num_class - 1].\n",
      "  warnings.warn(label_encoder_deprecation_msg, UserWarning)\n"
     ]
    },
    {
     "name": "stdout",
     "output_type": "stream",
     "text": [
      "[22:00:13] WARNING: C:/Users/Administrator/workspace/xgboost-win64_release_1.3.0/src/learner.cc:1061: Starting in XGBoost 1.3.0, the default evaluation metric used with the objective 'binary:logistic' was changed from 'error' to 'logloss'. Explicitly set eval_metric if you'd like to restore the old behavior.\n"
     ]
    }
   ],
   "source": [
    "from xgboost import XGBClassifier\n",
    "model_xgb = XGBClassifier()\n",
    "model_xgb.fit(X_train, y_train)\n",
    "pred_xgb = model_xgb.predict(X_test)"
   ]
  },
  {
   "cell_type": "code",
   "execution_count": 153,
   "metadata": {},
   "outputs": [
    {
     "name": "stdout",
     "output_type": "stream",
     "text": [
      "(78273, 2)\n"
     ]
    },
    {
     "data": {
      "text/plain": [
       "0    75070\n",
       "1     3203\n",
       "Name: Target, dtype: int64"
      ]
     },
     "execution_count": 153,
     "metadata": {},
     "output_type": "execute_result"
    }
   ],
   "source": [
    "hasil_xgb = pd.DataFrame({\n",
    "    'id' : final_test['id'],\n",
    "    'Target' : pred_xgb\n",
    "})\n",
    "\n",
    "print(hasil_xgb.shape)\n",
    "\n",
    "hasil_xgb['Target'].value_counts()"
   ]
  },
  {
   "cell_type": "code",
   "execution_count": 154,
   "metadata": {},
   "outputs": [],
   "source": [
    "hasil_xgb.to_csv('ok.csv',index=False)"
   ]
  },
  {
   "cell_type": "code",
   "execution_count": null,
   "metadata": {},
   "outputs": [],
   "source": []
  },
  {
   "cell_type": "code",
   "execution_count": null,
   "metadata": {},
   "outputs": [],
   "source": []
  },
  {
   "cell_type": "code",
   "execution_count": null,
   "metadata": {},
   "outputs": [],
   "source": []
  },
  {
   "cell_type": "code",
   "execution_count": 63,
   "metadata": {},
   "outputs": [],
   "source": [
    "from sklearn.neighbors import KNeighborsClassifier\n",
    "model_knn=KNeighborsClassifier(n_neighbors=17)\n",
    "model_knn.fit(X_train,y_train)\n",
    "pred_knn = model_knn.predict(X_test)"
   ]
  },
  {
   "cell_type": "code",
   "execution_count": 64,
   "metadata": {},
   "outputs": [
    {
     "name": "stdout",
     "output_type": "stream",
     "text": [
      "(78273, 2)\n"
     ]
    },
    {
     "data": {
      "text/plain": [
       "0    76359\n",
       "1     1914\n",
       "Name: Target, dtype: int64"
      ]
     },
     "execution_count": 64,
     "metadata": {},
     "output_type": "execute_result"
    }
   ],
   "source": [
    "hasil_knn = pd.DataFrame({\n",
    "    'id' : final_test['id'],\n",
    "    'Target' : pred_knn\n",
    "})\n",
    "\n",
    "print(hasil_knn.shape)\n",
    "\n",
    "hasil_knn['Target'].value_counts()"
   ]
  },
  {
   "cell_type": "code",
   "execution_count": 65,
   "metadata": {},
   "outputs": [],
   "source": [
    "hasil_knn.to_csv('submissionknn.csv',index=False)"
   ]
  },
  {
   "cell_type": "code",
   "execution_count": null,
   "metadata": {},
   "outputs": [],
   "source": []
  },
  {
   "cell_type": "code",
   "execution_count": null,
   "metadata": {},
   "outputs": [],
   "source": [
    "#VALIDATION"
   ]
  },
  {
   "cell_type": "code",
   "execution_count": 72,
   "metadata": {},
   "outputs": [],
   "source": [
    "from sklearn.metrics import classification_report,accuracy_score\n",
    "print(classification_report(y_test,pred_rfc))\n",
    "print(accuracy_score(y_test,pred_rfc))"
   ]
  },
  {
   "cell_type": "code",
   "execution_count": null,
   "metadata": {},
   "outputs": [],
   "source": [
    "acc_random_forest = accuracy_score(y_test,pred_rfc)\n",
    "acc_logistic_reg = accuracy_score(y_test,pred_logreg)\n",
    "acc_SVC= accuracy_score(y_test,pred_svc)\n",
    "acc_NBayes= accuracy_score(y_test,pred_nb)\n",
    "\n",
    "models = pd.DataFrame({\n",
    "    'Model': [ 'Random Forest', 'Logistic Regression','Support Vector Classifier','Naive bayes'],\n",
    "    'Score': [acc_random_forest,acc_logistic_reg,acc_SVC,acc_NBayes]})\n",
    "models.sort_values(by='Score', ascending=False)"
   ]
  }
 ],
 "metadata": {
  "kernelspec": {
   "display_name": "Python 3",
   "language": "python",
   "name": "python3"
  },
  "language_info": {
   "codemirror_mode": {
    "name": "ipython",
    "version": 3
   },
   "file_extension": ".py",
   "mimetype": "text/x-python",
   "name": "python",
   "nbconvert_exporter": "python",
   "pygments_lexer": "ipython3",
   "version": "3.7.6"
  }
 },
 "nbformat": 4,
 "nbformat_minor": 4
}
